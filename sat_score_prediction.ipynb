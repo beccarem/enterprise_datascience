{
 "cells": [
  {
   "cell_type": "markdown",
   "id": "6ea91277",
   "metadata": {},
   "source": [
    " # <center> SAT Score Prediction in NYC Schools </center>\n",
    "## <center> An End-To-End Machine Learning Project </center>"
   ]
  },
  {
   "cell_type": "markdown",
   "id": "14c31e24",
   "metadata": {},
   "source": [
    "# Data"
   ]
  },
  {
   "cell_type": "code",
   "execution_count": 1,
   "id": "a0e01994",
   "metadata": {},
   "outputs": [],
   "source": [
    "# Find and delete extras\n",
    "import pandas as pd\n",
    "import matplotlib as mpl\n",
    "import matplotlib.pyplot as plt\n",
    "import numpy as np"
   ]
  },
  {
   "cell_type": "code",
   "execution_count": 2,
   "id": "7cb039cd",
   "metadata": {},
   "outputs": [
    {
     "data": {
      "text/html": [
       "<div>\n",
       "<style scoped>\n",
       "    .dataframe tbody tr th:only-of-type {\n",
       "        vertical-align: middle;\n",
       "    }\n",
       "\n",
       "    .dataframe tbody tr th {\n",
       "        vertical-align: top;\n",
       "    }\n",
       "\n",
       "    .dataframe thead th {\n",
       "        text-align: right;\n",
       "    }\n",
       "</style>\n",
       "<table border=\"1\" class=\"dataframe\">\n",
       "  <thead>\n",
       "    <tr style=\"text-align: right;\">\n",
       "      <th></th>\n",
       "      <th>School ID</th>\n",
       "      <th>School Name</th>\n",
       "      <th>Borough</th>\n",
       "      <th>Building Code</th>\n",
       "      <th>Street Address</th>\n",
       "      <th>City</th>\n",
       "      <th>State</th>\n",
       "      <th>Zip Code</th>\n",
       "      <th>Latitude</th>\n",
       "      <th>Longitude</th>\n",
       "      <th>...</th>\n",
       "      <th>End Time</th>\n",
       "      <th>Student Enrollment</th>\n",
       "      <th>Percent White</th>\n",
       "      <th>Percent Black</th>\n",
       "      <th>Percent Hispanic</th>\n",
       "      <th>Percent Asian</th>\n",
       "      <th>Average Score (SAT Math)</th>\n",
       "      <th>Average Score (SAT Reading)</th>\n",
       "      <th>Average Score (SAT Writing)</th>\n",
       "      <th>Percent Tested</th>\n",
       "    </tr>\n",
       "  </thead>\n",
       "  <tbody>\n",
       "    <tr>\n",
       "      <th>0</th>\n",
       "      <td>02M260</td>\n",
       "      <td>Clinton School Writers and Artists</td>\n",
       "      <td>Manhattan</td>\n",
       "      <td>M933</td>\n",
       "      <td>425 West 33rd Street</td>\n",
       "      <td>Manhattan</td>\n",
       "      <td>NY</td>\n",
       "      <td>10001</td>\n",
       "      <td>40.75321</td>\n",
       "      <td>-73.99786</td>\n",
       "      <td>...</td>\n",
       "      <td>NaN</td>\n",
       "      <td>NaN</td>\n",
       "      <td>NaN</td>\n",
       "      <td>NaN</td>\n",
       "      <td>NaN</td>\n",
       "      <td>NaN</td>\n",
       "      <td>NaN</td>\n",
       "      <td>NaN</td>\n",
       "      <td>NaN</td>\n",
       "      <td>NaN</td>\n",
       "    </tr>\n",
       "    <tr>\n",
       "      <th>1</th>\n",
       "      <td>06M211</td>\n",
       "      <td>Inwood Early College for Health and Informatio...</td>\n",
       "      <td>Manhattan</td>\n",
       "      <td>M052</td>\n",
       "      <td>650 Academy Street</td>\n",
       "      <td>Manhattan</td>\n",
       "      <td>NY</td>\n",
       "      <td>10002</td>\n",
       "      <td>40.86605</td>\n",
       "      <td>-73.92486</td>\n",
       "      <td>...</td>\n",
       "      <td>3:00 PM</td>\n",
       "      <td>87.0</td>\n",
       "      <td>3.4%</td>\n",
       "      <td>21.8%</td>\n",
       "      <td>67.8%</td>\n",
       "      <td>4.6%</td>\n",
       "      <td>NaN</td>\n",
       "      <td>NaN</td>\n",
       "      <td>NaN</td>\n",
       "      <td>NaN</td>\n",
       "    </tr>\n",
       "    <tr>\n",
       "      <th>2</th>\n",
       "      <td>01M539</td>\n",
       "      <td>New Explorations into Science, Technology and ...</td>\n",
       "      <td>Manhattan</td>\n",
       "      <td>M022</td>\n",
       "      <td>111 Columbia Street</td>\n",
       "      <td>Manhattan</td>\n",
       "      <td>NY</td>\n",
       "      <td>10002</td>\n",
       "      <td>40.71873</td>\n",
       "      <td>-73.97943</td>\n",
       "      <td>...</td>\n",
       "      <td>4:00 PM</td>\n",
       "      <td>1735.0</td>\n",
       "      <td>28.6%</td>\n",
       "      <td>13.3%</td>\n",
       "      <td>18.0%</td>\n",
       "      <td>38.5%</td>\n",
       "      <td>657.0</td>\n",
       "      <td>601.0</td>\n",
       "      <td>601.0</td>\n",
       "      <td>91.0%</td>\n",
       "    </tr>\n",
       "    <tr>\n",
       "      <th>3</th>\n",
       "      <td>02M294</td>\n",
       "      <td>Essex Street Academy</td>\n",
       "      <td>Manhattan</td>\n",
       "      <td>M445</td>\n",
       "      <td>350 Grand Street</td>\n",
       "      <td>Manhattan</td>\n",
       "      <td>NY</td>\n",
       "      <td>10002</td>\n",
       "      <td>40.71687</td>\n",
       "      <td>-73.98953</td>\n",
       "      <td>...</td>\n",
       "      <td>2:45 PM</td>\n",
       "      <td>358.0</td>\n",
       "      <td>11.7%</td>\n",
       "      <td>38.5%</td>\n",
       "      <td>41.3%</td>\n",
       "      <td>5.9%</td>\n",
       "      <td>395.0</td>\n",
       "      <td>411.0</td>\n",
       "      <td>387.0</td>\n",
       "      <td>78.9%</td>\n",
       "    </tr>\n",
       "    <tr>\n",
       "      <th>4</th>\n",
       "      <td>02M308</td>\n",
       "      <td>Lower Manhattan Arts Academy</td>\n",
       "      <td>Manhattan</td>\n",
       "      <td>M445</td>\n",
       "      <td>350 Grand Street</td>\n",
       "      <td>Manhattan</td>\n",
       "      <td>NY</td>\n",
       "      <td>10002</td>\n",
       "      <td>40.71687</td>\n",
       "      <td>-73.98953</td>\n",
       "      <td>...</td>\n",
       "      <td>3:00 PM</td>\n",
       "      <td>383.0</td>\n",
       "      <td>3.1%</td>\n",
       "      <td>28.2%</td>\n",
       "      <td>56.9%</td>\n",
       "      <td>8.6%</td>\n",
       "      <td>418.0</td>\n",
       "      <td>428.0</td>\n",
       "      <td>415.0</td>\n",
       "      <td>65.1%</td>\n",
       "    </tr>\n",
       "  </tbody>\n",
       "</table>\n",
       "<p>5 rows × 22 columns</p>\n",
       "</div>"
      ],
      "text/plain": [
       "  School ID                                        School Name    Borough  \\\n",
       "0    02M260                 Clinton School Writers and Artists  Manhattan   \n",
       "1    06M211  Inwood Early College for Health and Informatio...  Manhattan   \n",
       "2    01M539  New Explorations into Science, Technology and ...  Manhattan   \n",
       "3    02M294                               Essex Street Academy  Manhattan   \n",
       "4    02M308                       Lower Manhattan Arts Academy  Manhattan   \n",
       "\n",
       "  Building Code        Street Address       City State  Zip Code  Latitude  \\\n",
       "0          M933  425 West 33rd Street  Manhattan    NY     10001  40.75321   \n",
       "1          M052    650 Academy Street  Manhattan    NY     10002  40.86605   \n",
       "2          M022   111 Columbia Street  Manhattan    NY     10002  40.71873   \n",
       "3          M445      350 Grand Street  Manhattan    NY     10002  40.71687   \n",
       "4          M445      350 Grand Street  Manhattan    NY     10002  40.71687   \n",
       "\n",
       "   Longitude  ... End Time Student Enrollment Percent White  Percent Black  \\\n",
       "0  -73.99786  ...      NaN                NaN           NaN            NaN   \n",
       "1  -73.92486  ...  3:00 PM               87.0          3.4%          21.8%   \n",
       "2  -73.97943  ...  4:00 PM             1735.0         28.6%          13.3%   \n",
       "3  -73.98953  ...  2:45 PM              358.0         11.7%          38.5%   \n",
       "4  -73.98953  ...  3:00 PM              383.0          3.1%          28.2%   \n",
       "\n",
       "  Percent Hispanic Percent Asian Average Score (SAT Math)  \\\n",
       "0              NaN           NaN                      NaN   \n",
       "1            67.8%          4.6%                      NaN   \n",
       "2            18.0%         38.5%                    657.0   \n",
       "3            41.3%          5.9%                    395.0   \n",
       "4            56.9%          8.6%                    418.0   \n",
       "\n",
       "  Average Score (SAT Reading)  Average Score (SAT Writing)  Percent Tested  \n",
       "0                         NaN                          NaN             NaN  \n",
       "1                         NaN                          NaN             NaN  \n",
       "2                       601.0                        601.0           91.0%  \n",
       "3                       411.0                        387.0           78.9%  \n",
       "4                       428.0                        415.0           65.1%  \n",
       "\n",
       "[5 rows x 22 columns]"
      ]
     },
     "execution_count": 2,
     "metadata": {},
     "output_type": "execute_result"
    }
   ],
   "source": [
    "data = pd.read_csv('Sat-Scores.csv')\n",
    "data.head()"
   ]
  },
  {
   "cell_type": "markdown",
   "id": "8384746c",
   "metadata": {},
   "source": [
    "## Data Structure"
   ]
  },
  {
   "cell_type": "code",
   "execution_count": 3,
   "id": "d0167b55",
   "metadata": {},
   "outputs": [
    {
     "name": "stdout",
     "output_type": "stream",
     "text": [
      "<class 'pandas.core.frame.DataFrame'>\n",
      "RangeIndex: 435 entries, 0 to 434\n",
      "Data columns (total 22 columns):\n",
      " #   Column                       Non-Null Count  Dtype  \n",
      "---  ------                       --------------  -----  \n",
      " 0   School ID                    435 non-null    object \n",
      " 1   School Name                  435 non-null    object \n",
      " 2   Borough                      435 non-null    object \n",
      " 3   Building Code                435 non-null    object \n",
      " 4   Street Address               435 non-null    object \n",
      " 5   City                         435 non-null    object \n",
      " 6   State                        435 non-null    object \n",
      " 7   Zip Code                     435 non-null    int64  \n",
      " 8   Latitude                     435 non-null    float64\n",
      " 9   Longitude                    435 non-null    float64\n",
      " 10  Phone Number                 435 non-null    object \n",
      " 11  Start Time                   431 non-null    object \n",
      " 12  End Time                     431 non-null    object \n",
      " 13  Student Enrollment           428 non-null    float64\n",
      " 14  Percent White                428 non-null    object \n",
      " 15  Percent Black                428 non-null    object \n",
      " 16  Percent Hispanic             428 non-null    object \n",
      " 17  Percent Asian                428 non-null    object \n",
      " 18  Average Score (SAT Math)     375 non-null    float64\n",
      " 19  Average Score (SAT Reading)  375 non-null    float64\n",
      " 20  Average Score (SAT Writing)  375 non-null    float64\n",
      " 21  Percent Tested               386 non-null    object \n",
      "dtypes: float64(6), int64(1), object(15)\n",
      "memory usage: 74.9+ KB\n"
     ]
    }
   ],
   "source": [
    "data.info()"
   ]
  },
  {
   "cell_type": "code",
   "execution_count": 4,
   "id": "22884808",
   "metadata": {},
   "outputs": [
    {
     "data": {
      "text/plain": [
       "Brooklyn         121\n",
       "Bronx            118\n",
       "Manhattan        106\n",
       "Queens            80\n",
       "Staten Island     10\n",
       "Name: Borough, dtype: int64"
      ]
     },
     "execution_count": 4,
     "metadata": {},
     "output_type": "execute_result"
    }
   ],
   "source": [
    "data[\"Borough\"].value_counts()"
   ]
  },
  {
   "cell_type": "code",
   "execution_count": 5,
   "id": "c4ae220e",
   "metadata": {},
   "outputs": [
    {
     "data": {
      "text/plain": [
       "X425    6\n",
       "X435    6\n",
       "M490    6\n",
       "X410    6\n",
       "X405    6\n",
       "       ..\n",
       "R600    1\n",
       "X839    1\n",
       "M495    1\n",
       "Q690    1\n",
       "K540    1\n",
       "Name: Building Code, Length: 256, dtype: int64"
      ]
     },
     "execution_count": 5,
     "metadata": {},
     "output_type": "execute_result"
    }
   ],
   "source": [
    "data[\"Building Code\"].value_counts()"
   ]
  },
  {
   "cell_type": "code",
   "execution_count": 6,
   "id": "baba7192",
   "metadata": {
    "scrolled": false
   },
   "outputs": [
    {
     "data": {
      "text/plain": [
       "Brooklyn               121\n",
       "Bronx                  118\n",
       "Manhattan              106\n",
       "Jamaica                 13\n",
       "Long Island City        12\n",
       "Staten Island           10\n",
       "Flushing                 8\n",
       "Astoria                  6\n",
       "Elmhurst                 5\n",
       "Springfield Gardens      4\n",
       "Cambria Heights          4\n",
       "Rockaway Park            4\n",
       "Ozone Park               3\n",
       "Fresh Meadows            3\n",
       "Forest Hills             3\n",
       "Far Rockaway             3\n",
       "Queens Village           2\n",
       "Saint Albans             1\n",
       "Oakland Gardens          1\n",
       "Corona                   1\n",
       "Richmond Hill            1\n",
       "Queens                   1\n",
       "South Richmond Hill      1\n",
       "Bayside                  1\n",
       "Bellerose                1\n",
       "Hollis                   1\n",
       "Ridgewood                1\n",
       "Name: City, dtype: int64"
      ]
     },
     "execution_count": 6,
     "metadata": {},
     "output_type": "execute_result"
    }
   ],
   "source": [
    "data[\"City\"].value_counts()\n",
    "# 27 unique values"
   ]
  },
  {
   "cell_type": "code",
   "execution_count": 7,
   "id": "a012afcf",
   "metadata": {},
   "outputs": [
    {
     "data": {
      "text/plain": [
       "10457    13\n",
       "10002    12\n",
       "11101    12\n",
       "11201    11\n",
       "10456    11\n",
       "         ..\n",
       "10033     1\n",
       "10034     1\n",
       "10039     1\n",
       "11102     1\n",
       "11238     1\n",
       "Name: Zip Code, Length: 120, dtype: int64"
      ]
     },
     "execution_count": 7,
     "metadata": {},
     "output_type": "execute_result"
    }
   ],
   "source": [
    "data[\"Zip Code\"].value_counts()"
   ]
  },
  {
   "cell_type": "code",
   "execution_count": 8,
   "id": "d19ccdb9",
   "metadata": {},
   "outputs": [
    {
     "data": {
      "text/plain": [
       "Brooklyn         121\n",
       "Bronx            118\n",
       "Manhattan        106\n",
       "Queens            80\n",
       "Staten Island     10\n",
       "Name: Borough, dtype: int64"
      ]
     },
     "execution_count": 8,
     "metadata": {},
     "output_type": "execute_result"
    }
   ],
   "source": [
    "data[\"Borough\"].value_counts()"
   ]
  },
  {
   "cell_type": "code",
   "execution_count": 9,
   "id": "04ed190e",
   "metadata": {
    "scrolled": false
   },
   "outputs": [
    {
     "data": {
      "text/html": [
       "<div>\n",
       "<style scoped>\n",
       "    .dataframe tbody tr th:only-of-type {\n",
       "        vertical-align: middle;\n",
       "    }\n",
       "\n",
       "    .dataframe tbody tr th {\n",
       "        vertical-align: top;\n",
       "    }\n",
       "\n",
       "    .dataframe thead th {\n",
       "        text-align: right;\n",
       "    }\n",
       "</style>\n",
       "<table border=\"1\" class=\"dataframe\">\n",
       "  <thead>\n",
       "    <tr style=\"text-align: right;\">\n",
       "      <th></th>\n",
       "      <th>School ID</th>\n",
       "      <th>School Name</th>\n",
       "      <th>Borough</th>\n",
       "      <th>Building Code</th>\n",
       "      <th>Street Address</th>\n",
       "      <th>City</th>\n",
       "      <th>State</th>\n",
       "      <th>Zip Code</th>\n",
       "      <th>Latitude</th>\n",
       "      <th>Longitude</th>\n",
       "      <th>...</th>\n",
       "      <th>Student Enrollment</th>\n",
       "      <th>Percent White</th>\n",
       "      <th>Percent Black</th>\n",
       "      <th>Percent Hispanic</th>\n",
       "      <th>Percent Asian</th>\n",
       "      <th>Average Score (SAT Math)</th>\n",
       "      <th>Average Score (SAT Reading)</th>\n",
       "      <th>Average Score (SAT Writing)</th>\n",
       "      <th>Percent Tested</th>\n",
       "      <th>average_total_score</th>\n",
       "    </tr>\n",
       "  </thead>\n",
       "  <tbody>\n",
       "    <tr>\n",
       "      <th>0</th>\n",
       "      <td>02M260</td>\n",
       "      <td>Clinton School Writers and Artists</td>\n",
       "      <td>Manhattan</td>\n",
       "      <td>M933</td>\n",
       "      <td>425 West 33rd Street</td>\n",
       "      <td>Manhattan</td>\n",
       "      <td>NY</td>\n",
       "      <td>10001</td>\n",
       "      <td>40.75321</td>\n",
       "      <td>-73.99786</td>\n",
       "      <td>...</td>\n",
       "      <td>NaN</td>\n",
       "      <td>NaN</td>\n",
       "      <td>NaN</td>\n",
       "      <td>NaN</td>\n",
       "      <td>NaN</td>\n",
       "      <td>NaN</td>\n",
       "      <td>NaN</td>\n",
       "      <td>NaN</td>\n",
       "      <td>NaN</td>\n",
       "      <td>NaN</td>\n",
       "    </tr>\n",
       "    <tr>\n",
       "      <th>1</th>\n",
       "      <td>06M211</td>\n",
       "      <td>Inwood Early College for Health and Informatio...</td>\n",
       "      <td>Manhattan</td>\n",
       "      <td>M052</td>\n",
       "      <td>650 Academy Street</td>\n",
       "      <td>Manhattan</td>\n",
       "      <td>NY</td>\n",
       "      <td>10002</td>\n",
       "      <td>40.86605</td>\n",
       "      <td>-73.92486</td>\n",
       "      <td>...</td>\n",
       "      <td>87.0</td>\n",
       "      <td>3.4%</td>\n",
       "      <td>21.8%</td>\n",
       "      <td>67.8%</td>\n",
       "      <td>4.6%</td>\n",
       "      <td>NaN</td>\n",
       "      <td>NaN</td>\n",
       "      <td>NaN</td>\n",
       "      <td>NaN</td>\n",
       "      <td>NaN</td>\n",
       "    </tr>\n",
       "    <tr>\n",
       "      <th>2</th>\n",
       "      <td>01M539</td>\n",
       "      <td>New Explorations into Science, Technology and ...</td>\n",
       "      <td>Manhattan</td>\n",
       "      <td>M022</td>\n",
       "      <td>111 Columbia Street</td>\n",
       "      <td>Manhattan</td>\n",
       "      <td>NY</td>\n",
       "      <td>10002</td>\n",
       "      <td>40.71873</td>\n",
       "      <td>-73.97943</td>\n",
       "      <td>...</td>\n",
       "      <td>1735.0</td>\n",
       "      <td>28.6%</td>\n",
       "      <td>13.3%</td>\n",
       "      <td>18.0%</td>\n",
       "      <td>38.5%</td>\n",
       "      <td>657.0</td>\n",
       "      <td>601.0</td>\n",
       "      <td>601.0</td>\n",
       "      <td>91.0%</td>\n",
       "      <td>1859.0</td>\n",
       "    </tr>\n",
       "    <tr>\n",
       "      <th>3</th>\n",
       "      <td>02M294</td>\n",
       "      <td>Essex Street Academy</td>\n",
       "      <td>Manhattan</td>\n",
       "      <td>M445</td>\n",
       "      <td>350 Grand Street</td>\n",
       "      <td>Manhattan</td>\n",
       "      <td>NY</td>\n",
       "      <td>10002</td>\n",
       "      <td>40.71687</td>\n",
       "      <td>-73.98953</td>\n",
       "      <td>...</td>\n",
       "      <td>358.0</td>\n",
       "      <td>11.7%</td>\n",
       "      <td>38.5%</td>\n",
       "      <td>41.3%</td>\n",
       "      <td>5.9%</td>\n",
       "      <td>395.0</td>\n",
       "      <td>411.0</td>\n",
       "      <td>387.0</td>\n",
       "      <td>78.9%</td>\n",
       "      <td>1193.0</td>\n",
       "    </tr>\n",
       "    <tr>\n",
       "      <th>4</th>\n",
       "      <td>02M308</td>\n",
       "      <td>Lower Manhattan Arts Academy</td>\n",
       "      <td>Manhattan</td>\n",
       "      <td>M445</td>\n",
       "      <td>350 Grand Street</td>\n",
       "      <td>Manhattan</td>\n",
       "      <td>NY</td>\n",
       "      <td>10002</td>\n",
       "      <td>40.71687</td>\n",
       "      <td>-73.98953</td>\n",
       "      <td>...</td>\n",
       "      <td>383.0</td>\n",
       "      <td>3.1%</td>\n",
       "      <td>28.2%</td>\n",
       "      <td>56.9%</td>\n",
       "      <td>8.6%</td>\n",
       "      <td>418.0</td>\n",
       "      <td>428.0</td>\n",
       "      <td>415.0</td>\n",
       "      <td>65.1%</td>\n",
       "      <td>1261.0</td>\n",
       "    </tr>\n",
       "  </tbody>\n",
       "</table>\n",
       "<p>5 rows × 23 columns</p>\n",
       "</div>"
      ],
      "text/plain": [
       "  School ID                                        School Name    Borough  \\\n",
       "0    02M260                 Clinton School Writers and Artists  Manhattan   \n",
       "1    06M211  Inwood Early College for Health and Informatio...  Manhattan   \n",
       "2    01M539  New Explorations into Science, Technology and ...  Manhattan   \n",
       "3    02M294                               Essex Street Academy  Manhattan   \n",
       "4    02M308                       Lower Manhattan Arts Academy  Manhattan   \n",
       "\n",
       "  Building Code        Street Address       City State  Zip Code  Latitude  \\\n",
       "0          M933  425 West 33rd Street  Manhattan    NY     10001  40.75321   \n",
       "1          M052    650 Academy Street  Manhattan    NY     10002  40.86605   \n",
       "2          M022   111 Columbia Street  Manhattan    NY     10002  40.71873   \n",
       "3          M445      350 Grand Street  Manhattan    NY     10002  40.71687   \n",
       "4          M445      350 Grand Street  Manhattan    NY     10002  40.71687   \n",
       "\n",
       "   Longitude  ... Student Enrollment Percent White Percent Black  \\\n",
       "0  -73.99786  ...                NaN           NaN           NaN   \n",
       "1  -73.92486  ...               87.0          3.4%         21.8%   \n",
       "2  -73.97943  ...             1735.0         28.6%         13.3%   \n",
       "3  -73.98953  ...              358.0         11.7%         38.5%   \n",
       "4  -73.98953  ...              383.0          3.1%         28.2%   \n",
       "\n",
       "   Percent Hispanic Percent Asian Average Score (SAT Math)  \\\n",
       "0               NaN           NaN                      NaN   \n",
       "1             67.8%          4.6%                      NaN   \n",
       "2             18.0%         38.5%                    657.0   \n",
       "3             41.3%          5.9%                    395.0   \n",
       "4             56.9%          8.6%                    418.0   \n",
       "\n",
       "  Average Score (SAT Reading) Average Score (SAT Writing)  Percent Tested  \\\n",
       "0                         NaN                         NaN             NaN   \n",
       "1                         NaN                         NaN             NaN   \n",
       "2                       601.0                       601.0           91.0%   \n",
       "3                       411.0                       387.0           78.9%   \n",
       "4                       428.0                       415.0           65.1%   \n",
       "\n",
       "   average_total_score  \n",
       "0                  NaN  \n",
       "1                  NaN  \n",
       "2               1859.0  \n",
       "3               1193.0  \n",
       "4               1261.0  \n",
       "\n",
       "[5 rows x 23 columns]"
      ]
     },
     "execution_count": 9,
     "metadata": {},
     "output_type": "execute_result"
    }
   ],
   "source": [
    "data['average_total_score'] = data['Average Score (SAT Math)'] + data['Average Score (SAT Reading)'] + data['Average Score (SAT Writing)']\n",
    "data.head()"
   ]
  },
  {
   "cell_type": "code",
   "execution_count": 10,
   "id": "65975f3e",
   "metadata": {},
   "outputs": [
    {
     "data": {
      "text/html": [
       "<div>\n",
       "<style scoped>\n",
       "    .dataframe tbody tr th:only-of-type {\n",
       "        vertical-align: middle;\n",
       "    }\n",
       "\n",
       "    .dataframe tbody tr th {\n",
       "        vertical-align: top;\n",
       "    }\n",
       "\n",
       "    .dataframe thead th {\n",
       "        text-align: right;\n",
       "    }\n",
       "</style>\n",
       "<table border=\"1\" class=\"dataframe\">\n",
       "  <thead>\n",
       "    <tr style=\"text-align: right;\">\n",
       "      <th></th>\n",
       "      <th>Zip Code</th>\n",
       "      <th>Latitude</th>\n",
       "      <th>Longitude</th>\n",
       "      <th>Student Enrollment</th>\n",
       "      <th>Average Score (SAT Math)</th>\n",
       "      <th>Average Score (SAT Reading)</th>\n",
       "      <th>Average Score (SAT Writing)</th>\n",
       "      <th>average_total_score</th>\n",
       "    </tr>\n",
       "  </thead>\n",
       "  <tbody>\n",
       "    <tr>\n",
       "      <th>count</th>\n",
       "      <td>435.000000</td>\n",
       "      <td>435.000000</td>\n",
       "      <td>435.000000</td>\n",
       "      <td>428.000000</td>\n",
       "      <td>375.000000</td>\n",
       "      <td>375.000000</td>\n",
       "      <td>375.000000</td>\n",
       "      <td>375.000000</td>\n",
       "    </tr>\n",
       "    <tr>\n",
       "      <th>mean</th>\n",
       "      <td>10726.096552</td>\n",
       "      <td>40.745472</td>\n",
       "      <td>-73.921072</td>\n",
       "      <td>702.357477</td>\n",
       "      <td>432.944000</td>\n",
       "      <td>424.504000</td>\n",
       "      <td>418.458667</td>\n",
       "      <td>1275.906667</td>\n",
       "    </tr>\n",
       "    <tr>\n",
       "      <th>std</th>\n",
       "      <td>537.927907</td>\n",
       "      <td>0.080937</td>\n",
       "      <td>0.071705</td>\n",
       "      <td>759.176061</td>\n",
       "      <td>71.952373</td>\n",
       "      <td>61.881069</td>\n",
       "      <td>64.548599</td>\n",
       "      <td>194.906283</td>\n",
       "    </tr>\n",
       "    <tr>\n",
       "      <th>min</th>\n",
       "      <td>10001.000000</td>\n",
       "      <td>40.528230</td>\n",
       "      <td>-74.192150</td>\n",
       "      <td>62.000000</td>\n",
       "      <td>317.000000</td>\n",
       "      <td>302.000000</td>\n",
       "      <td>284.000000</td>\n",
       "      <td>924.000000</td>\n",
       "    </tr>\n",
       "    <tr>\n",
       "      <th>25%</th>\n",
       "      <td>10301.500000</td>\n",
       "      <td>40.690495</td>\n",
       "      <td>-73.979260</td>\n",
       "      <td>357.250000</td>\n",
       "      <td>386.000000</td>\n",
       "      <td>386.000000</td>\n",
       "      <td>382.000000</td>\n",
       "      <td>1157.000000</td>\n",
       "    </tr>\n",
       "    <tr>\n",
       "      <th>50%</th>\n",
       "      <td>10472.000000</td>\n",
       "      <td>40.741210</td>\n",
       "      <td>-73.925140</td>\n",
       "      <td>466.000000</td>\n",
       "      <td>415.000000</td>\n",
       "      <td>413.000000</td>\n",
       "      <td>403.000000</td>\n",
       "      <td>1226.000000</td>\n",
       "    </tr>\n",
       "    <tr>\n",
       "      <th>75%</th>\n",
       "      <td>11217.000000</td>\n",
       "      <td>40.822095</td>\n",
       "      <td>-73.882580</td>\n",
       "      <td>623.250000</td>\n",
       "      <td>458.500000</td>\n",
       "      <td>445.000000</td>\n",
       "      <td>437.500000</td>\n",
       "      <td>1330.500000</td>\n",
       "    </tr>\n",
       "    <tr>\n",
       "      <th>max</th>\n",
       "      <td>11694.000000</td>\n",
       "      <td>40.888370</td>\n",
       "      <td>-73.726910</td>\n",
       "      <td>5447.000000</td>\n",
       "      <td>754.000000</td>\n",
       "      <td>697.000000</td>\n",
       "      <td>693.000000</td>\n",
       "      <td>2144.000000</td>\n",
       "    </tr>\n",
       "  </tbody>\n",
       "</table>\n",
       "</div>"
      ],
      "text/plain": [
       "           Zip Code    Latitude   Longitude  Student Enrollment  \\\n",
       "count    435.000000  435.000000  435.000000          428.000000   \n",
       "mean   10726.096552   40.745472  -73.921072          702.357477   \n",
       "std      537.927907    0.080937    0.071705          759.176061   \n",
       "min    10001.000000   40.528230  -74.192150           62.000000   \n",
       "25%    10301.500000   40.690495  -73.979260          357.250000   \n",
       "50%    10472.000000   40.741210  -73.925140          466.000000   \n",
       "75%    11217.000000   40.822095  -73.882580          623.250000   \n",
       "max    11694.000000   40.888370  -73.726910         5447.000000   \n",
       "\n",
       "       Average Score (SAT Math)  Average Score (SAT Reading)  \\\n",
       "count                375.000000                   375.000000   \n",
       "mean                 432.944000                   424.504000   \n",
       "std                   71.952373                    61.881069   \n",
       "min                  317.000000                   302.000000   \n",
       "25%                  386.000000                   386.000000   \n",
       "50%                  415.000000                   413.000000   \n",
       "75%                  458.500000                   445.000000   \n",
       "max                  754.000000                   697.000000   \n",
       "\n",
       "       Average Score (SAT Writing)  average_total_score  \n",
       "count                   375.000000           375.000000  \n",
       "mean                    418.458667          1275.906667  \n",
       "std                      64.548599           194.906283  \n",
       "min                     284.000000           924.000000  \n",
       "25%                     382.000000          1157.000000  \n",
       "50%                     403.000000          1226.000000  \n",
       "75%                     437.500000          1330.500000  \n",
       "max                     693.000000          2144.000000  "
      ]
     },
     "execution_count": 10,
     "metadata": {},
     "output_type": "execute_result"
    }
   ],
   "source": [
    "data.describe()"
   ]
  },
  {
   "cell_type": "code",
   "execution_count": 11,
   "id": "8a2df650",
   "metadata": {},
   "outputs": [
    {
     "data": {
      "image/png": "[encoded data removed]",
      "text/plain": [
       "<Figure size 1440x720 with 9 Axes>"
      ]
     },
     "metadata": {
      "needs_background": "light"
     },
     "output_type": "display_data"
    }
   ],
   "source": [
    "data.hist(bins=30, figsize=(20, 10), layout=(3, 3))\n",
    "plt.savefig(\"attribute_histogram_plots\")\n",
    "plt.show()"
   ]
  },
  {
   "cell_type": "code",
   "execution_count": 12,
   "id": "d01047d4",
   "metadata": {},
   "outputs": [
    {
     "data": {
      "text/html": [
       "<div>\n",
       "<style scoped>\n",
       "    .dataframe tbody tr th:only-of-type {\n",
       "        vertical-align: middle;\n",
       "    }\n",
       "\n",
       "    .dataframe tbody tr th {\n",
       "        vertical-align: top;\n",
       "    }\n",
       "\n",
       "    .dataframe thead th {\n",
       "        text-align: right;\n",
       "    }\n",
       "</style>\n",
       "<table border=\"1\" class=\"dataframe\">\n",
       "  <thead>\n",
       "    <tr style=\"text-align: right;\">\n",
       "      <th></th>\n",
       "      <th>School ID</th>\n",
       "      <th>Borough</th>\n",
       "      <th>Building Code</th>\n",
       "      <th>City</th>\n",
       "      <th>Zip Code</th>\n",
       "      <th>Latitude</th>\n",
       "      <th>Longitude</th>\n",
       "      <th>Start Time</th>\n",
       "      <th>End Time</th>\n",
       "      <th>Student Enrollment</th>\n",
       "      <th>Percent White</th>\n",
       "      <th>Percent Black</th>\n",
       "      <th>Percent Hispanic</th>\n",
       "      <th>Percent Asian</th>\n",
       "      <th>Percent Tested</th>\n",
       "      <th>average_total_score</th>\n",
       "    </tr>\n",
       "  </thead>\n",
       "  <tbody>\n",
       "    <tr>\n",
       "      <th>0</th>\n",
       "      <td>02M260</td>\n",
       "      <td>Manhattan</td>\n",
       "      <td>M933</td>\n",
       "      <td>Manhattan</td>\n",
       "      <td>10001</td>\n",
       "      <td>40.75321</td>\n",
       "      <td>-73.99786</td>\n",
       "      <td>NaN</td>\n",
       "      <td>NaN</td>\n",
       "      <td>NaN</td>\n",
       "      <td>NaN</td>\n",
       "      <td>NaN</td>\n",
       "      <td>NaN</td>\n",
       "      <td>NaN</td>\n",
       "      <td>NaN</td>\n",
       "      <td>NaN</td>\n",
       "    </tr>\n",
       "    <tr>\n",
       "      <th>1</th>\n",
       "      <td>06M211</td>\n",
       "      <td>Manhattan</td>\n",
       "      <td>M052</td>\n",
       "      <td>Manhattan</td>\n",
       "      <td>10002</td>\n",
       "      <td>40.86605</td>\n",
       "      <td>-73.92486</td>\n",
       "      <td>8:30 AM</td>\n",
       "      <td>3:00 PM</td>\n",
       "      <td>87.0</td>\n",
       "      <td>3.4%</td>\n",
       "      <td>21.8%</td>\n",
       "      <td>67.8%</td>\n",
       "      <td>4.6%</td>\n",
       "      <td>NaN</td>\n",
       "      <td>NaN</td>\n",
       "    </tr>\n",
       "    <tr>\n",
       "      <th>2</th>\n",
       "      <td>01M539</td>\n",
       "      <td>Manhattan</td>\n",
       "      <td>M022</td>\n",
       "      <td>Manhattan</td>\n",
       "      <td>10002</td>\n",
       "      <td>40.71873</td>\n",
       "      <td>-73.97943</td>\n",
       "      <td>8:15 AM</td>\n",
       "      <td>4:00 PM</td>\n",
       "      <td>1735.0</td>\n",
       "      <td>28.6%</td>\n",
       "      <td>13.3%</td>\n",
       "      <td>18.0%</td>\n",
       "      <td>38.5%</td>\n",
       "      <td>91.0%</td>\n",
       "      <td>1859.0</td>\n",
       "    </tr>\n",
       "    <tr>\n",
       "      <th>3</th>\n",
       "      <td>02M294</td>\n",
       "      <td>Manhattan</td>\n",
       "      <td>M445</td>\n",
       "      <td>Manhattan</td>\n",
       "      <td>10002</td>\n",
       "      <td>40.71687</td>\n",
       "      <td>-73.98953</td>\n",
       "      <td>8:00 AM</td>\n",
       "      <td>2:45 PM</td>\n",
       "      <td>358.0</td>\n",
       "      <td>11.7%</td>\n",
       "      <td>38.5%</td>\n",
       "      <td>41.3%</td>\n",
       "      <td>5.9%</td>\n",
       "      <td>78.9%</td>\n",
       "      <td>1193.0</td>\n",
       "    </tr>\n",
       "    <tr>\n",
       "      <th>4</th>\n",
       "      <td>02M308</td>\n",
       "      <td>Manhattan</td>\n",
       "      <td>M445</td>\n",
       "      <td>Manhattan</td>\n",
       "      <td>10002</td>\n",
       "      <td>40.71687</td>\n",
       "      <td>-73.98953</td>\n",
       "      <td>8:30 AM</td>\n",
       "      <td>3:00 PM</td>\n",
       "      <td>383.0</td>\n",
       "      <td>3.1%</td>\n",
       "      <td>28.2%</td>\n",
       "      <td>56.9%</td>\n",
       "      <td>8.6%</td>\n",
       "      <td>65.1%</td>\n",
       "      <td>1261.0</td>\n",
       "    </tr>\n",
       "  </tbody>\n",
       "</table>\n",
       "</div>"
      ],
      "text/plain": [
       "  School ID    Borough Building Code       City  Zip Code  Latitude  \\\n",
       "0    02M260  Manhattan          M933  Manhattan     10001  40.75321   \n",
       "1    06M211  Manhattan          M052  Manhattan     10002  40.86605   \n",
       "2    01M539  Manhattan          M022  Manhattan     10002  40.71873   \n",
       "3    02M294  Manhattan          M445  Manhattan     10002  40.71687   \n",
       "4    02M308  Manhattan          M445  Manhattan     10002  40.71687   \n",
       "\n",
       "   Longitude Start Time End Time  Student Enrollment Percent White  \\\n",
       "0  -73.99786        NaN      NaN                 NaN           NaN   \n",
       "1  -73.92486    8:30 AM  3:00 PM                87.0          3.4%   \n",
       "2  -73.97943    8:15 AM  4:00 PM              1735.0         28.6%   \n",
       "3  -73.98953    8:00 AM  2:45 PM               358.0         11.7%   \n",
       "4  -73.98953    8:30 AM  3:00 PM               383.0          3.1%   \n",
       "\n",
       "  Percent Black Percent Hispanic Percent Asian Percent Tested  \\\n",
       "0           NaN              NaN           NaN            NaN   \n",
       "1         21.8%            67.8%          4.6%            NaN   \n",
       "2         13.3%            18.0%         38.5%          91.0%   \n",
       "3         38.5%            41.3%          5.9%          78.9%   \n",
       "4         28.2%            56.9%          8.6%          65.1%   \n",
       "\n",
       "   average_total_score  \n",
       "0                  NaN  \n",
       "1                  NaN  \n",
       "2               1859.0  \n",
       "3               1193.0  \n",
       "4               1261.0  "
      ]
     },
     "execution_count": 12,
     "metadata": {},
     "output_type": "execute_result"
    }
   ],
   "source": [
    "# drop useless columns\n",
    "data.drop(columns=[\"School Name\", \"Street Address\", \"State\", \"Phone Number\", \"Average Score (SAT Math)\", \"Average Score (SAT Reading)\", \"Average Score (SAT Writing)\"], inplace=True)\n",
    "data.head()"
   ]
  },
  {
   "cell_type": "code",
   "execution_count": 13,
   "id": "c872f94f",
   "metadata": {},
   "outputs": [
    {
     "data": {
      "text/html": [
       "<div>\n",
       "<style scoped>\n",
       "    .dataframe tbody tr th:only-of-type {\n",
       "        vertical-align: middle;\n",
       "    }\n",
       "\n",
       "    .dataframe tbody tr th {\n",
       "        vertical-align: top;\n",
       "    }\n",
       "\n",
       "    .dataframe thead th {\n",
       "        text-align: right;\n",
       "    }\n",
       "</style>\n",
       "<table border=\"1\" class=\"dataframe\">\n",
       "  <thead>\n",
       "    <tr style=\"text-align: right;\">\n",
       "      <th></th>\n",
       "      <th>School ID</th>\n",
       "      <th>Borough</th>\n",
       "      <th>Building Code</th>\n",
       "      <th>City</th>\n",
       "      <th>Zip Code</th>\n",
       "      <th>Latitude</th>\n",
       "      <th>Longitude</th>\n",
       "      <th>Start Time</th>\n",
       "      <th>End Time</th>\n",
       "      <th>Student Enrollment</th>\n",
       "      <th>Percent White</th>\n",
       "      <th>Percent Black</th>\n",
       "      <th>Percent Hispanic</th>\n",
       "      <th>Percent Asian</th>\n",
       "      <th>Percent Tested</th>\n",
       "      <th>average_total_score</th>\n",
       "    </tr>\n",
       "  </thead>\n",
       "  <tbody>\n",
       "    <tr>\n",
       "      <th>0</th>\n",
       "      <td>02M260</td>\n",
       "      <td>Manhattan</td>\n",
       "      <td>M933</td>\n",
       "      <td>Manhattan</td>\n",
       "      <td>10001</td>\n",
       "      <td>40.75321</td>\n",
       "      <td>-73.99786</td>\n",
       "      <td>NaN</td>\n",
       "      <td>NaN</td>\n",
       "      <td>NaN</td>\n",
       "      <td>NaN</td>\n",
       "      <td>NaN</td>\n",
       "      <td>NaN</td>\n",
       "      <td>NaN</td>\n",
       "      <td>NaN</td>\n",
       "      <td>NaN</td>\n",
       "    </tr>\n",
       "    <tr>\n",
       "      <th>1</th>\n",
       "      <td>06M211</td>\n",
       "      <td>Manhattan</td>\n",
       "      <td>M052</td>\n",
       "      <td>Manhattan</td>\n",
       "      <td>10002</td>\n",
       "      <td>40.86605</td>\n",
       "      <td>-73.92486</td>\n",
       "      <td>8:30 AM</td>\n",
       "      <td>3:00 PM</td>\n",
       "      <td>87.0</td>\n",
       "      <td>0.034</td>\n",
       "      <td>0.218</td>\n",
       "      <td>0.678</td>\n",
       "      <td>0.046</td>\n",
       "      <td>NaN</td>\n",
       "      <td>NaN</td>\n",
       "    </tr>\n",
       "    <tr>\n",
       "      <th>2</th>\n",
       "      <td>01M539</td>\n",
       "      <td>Manhattan</td>\n",
       "      <td>M022</td>\n",
       "      <td>Manhattan</td>\n",
       "      <td>10002</td>\n",
       "      <td>40.71873</td>\n",
       "      <td>-73.97943</td>\n",
       "      <td>8:15 AM</td>\n",
       "      <td>4:00 PM</td>\n",
       "      <td>1735.0</td>\n",
       "      <td>0.286</td>\n",
       "      <td>0.133</td>\n",
       "      <td>0.180</td>\n",
       "      <td>0.385</td>\n",
       "      <td>0.910</td>\n",
       "      <td>1859.0</td>\n",
       "    </tr>\n",
       "    <tr>\n",
       "      <th>3</th>\n",
       "      <td>02M294</td>\n",
       "      <td>Manhattan</td>\n",
       "      <td>M445</td>\n",
       "      <td>Manhattan</td>\n",
       "      <td>10002</td>\n",
       "      <td>40.71687</td>\n",
       "      <td>-73.98953</td>\n",
       "      <td>8:00 AM</td>\n",
       "      <td>2:45 PM</td>\n",
       "      <td>358.0</td>\n",
       "      <td>0.117</td>\n",
       "      <td>0.385</td>\n",
       "      <td>0.413</td>\n",
       "      <td>0.059</td>\n",
       "      <td>0.789</td>\n",
       "      <td>1193.0</td>\n",
       "    </tr>\n",
       "    <tr>\n",
       "      <th>4</th>\n",
       "      <td>02M308</td>\n",
       "      <td>Manhattan</td>\n",
       "      <td>M445</td>\n",
       "      <td>Manhattan</td>\n",
       "      <td>10002</td>\n",
       "      <td>40.71687</td>\n",
       "      <td>-73.98953</td>\n",
       "      <td>8:30 AM</td>\n",
       "      <td>3:00 PM</td>\n",
       "      <td>383.0</td>\n",
       "      <td>0.031</td>\n",
       "      <td>0.282</td>\n",
       "      <td>0.569</td>\n",
       "      <td>0.086</td>\n",
       "      <td>0.651</td>\n",
       "      <td>1261.0</td>\n",
       "    </tr>\n",
       "  </tbody>\n",
       "</table>\n",
       "</div>"
      ],
      "text/plain": [
       "  School ID    Borough Building Code       City  Zip Code  Latitude  \\\n",
       "0    02M260  Manhattan          M933  Manhattan     10001  40.75321   \n",
       "1    06M211  Manhattan          M052  Manhattan     10002  40.86605   \n",
       "2    01M539  Manhattan          M022  Manhattan     10002  40.71873   \n",
       "3    02M294  Manhattan          M445  Manhattan     10002  40.71687   \n",
       "4    02M308  Manhattan          M445  Manhattan     10002  40.71687   \n",
       "\n",
       "   Longitude Start Time End Time  Student Enrollment  Percent White  \\\n",
       "0  -73.99786        NaN      NaN                 NaN            NaN   \n",
       "1  -73.92486    8:30 AM  3:00 PM                87.0          0.034   \n",
       "2  -73.97943    8:15 AM  4:00 PM              1735.0          0.286   \n",
       "3  -73.98953    8:00 AM  2:45 PM               358.0          0.117   \n",
       "4  -73.98953    8:30 AM  3:00 PM               383.0          0.031   \n",
       "\n",
       "   Percent Black  Percent Hispanic  Percent Asian  Percent Tested  \\\n",
       "0            NaN               NaN            NaN             NaN   \n",
       "1          0.218             0.678          0.046             NaN   \n",
       "2          0.133             0.180          0.385           0.910   \n",
       "3          0.385             0.413          0.059           0.789   \n",
       "4          0.282             0.569          0.086           0.651   \n",
       "\n",
       "   average_total_score  \n",
       "0                  NaN  \n",
       "1                  NaN  \n",
       "2               1859.0  \n",
       "3               1193.0  \n",
       "4               1261.0  "
      ]
     },
     "execution_count": 13,
     "metadata": {},
     "output_type": "execute_result"
    }
   ],
   "source": [
    "# turn % to decimals\n",
    "def chg(var0):\n",
    "    if isinstance(var0, str): return float(str(var0)[:-1])/100\n",
    "    return var0\n",
    "\n",
    "data['Percent White'] = data['Percent White'].map(lambda x: chg(x))\n",
    "data['Percent Black'] = data['Percent Black'].map(lambda x: chg(x))\n",
    "data['Percent Hispanic'] = data['Percent Hispanic'].map(lambda x: chg(x))\n",
    "data['Percent Asian'] = data['Percent Asian'].map(lambda x: chg(x))\n",
    "data['Percent Tested'] = data['Percent Tested'].map(lambda x: chg(x))\n",
    "data.head()"
   ]
  },
  {
   "cell_type": "markdown",
   "id": "cc7c2251",
   "metadata": {},
   "source": [
    "Conclusion:\n",
    "\n",
    "Note: Latitude: North/South, Longitude: East/West <br/>\n",
    "Looking at the data..."
   ]
  },
  {
   "cell_type": "markdown",
   "id": "d1da9f94",
   "metadata": {},
   "source": [
    "## Test Set"
   ]
  },
  {
   "cell_type": "code",
   "execution_count": 14,
   "id": "3196fbc5",
   "metadata": {},
   "outputs": [],
   "source": [
    "# to make this notebook's output identical at every run\n",
    "np.random.seed(25)"
   ]
  },
  {
   "cell_type": "code",
   "execution_count": 15,
   "id": "f63ffbfd",
   "metadata": {},
   "outputs": [],
   "source": [
    "from sklearn.model_selection import train_test_split\n",
    "\n",
    "train_set, test_set = train_test_split(data, test_size=0.2, random_state=25)"
   ]
  },
  {
   "cell_type": "code",
   "execution_count": 16,
   "id": "e3feb97d",
   "metadata": {},
   "outputs": [
    {
     "data": {
      "text/html": [
       "<div>\n",
       "<style scoped>\n",
       "    .dataframe tbody tr th:only-of-type {\n",
       "        vertical-align: middle;\n",
       "    }\n",
       "\n",
       "    .dataframe tbody tr th {\n",
       "        vertical-align: top;\n",
       "    }\n",
       "\n",
       "    .dataframe thead th {\n",
       "        text-align: right;\n",
       "    }\n",
       "</style>\n",
       "<table border=\"1\" class=\"dataframe\">\n",
       "  <thead>\n",
       "    <tr style=\"text-align: right;\">\n",
       "      <th></th>\n",
       "      <th>School ID</th>\n",
       "      <th>Borough</th>\n",
       "      <th>Building Code</th>\n",
       "      <th>City</th>\n",
       "      <th>Zip Code</th>\n",
       "      <th>Latitude</th>\n",
       "      <th>Longitude</th>\n",
       "      <th>Start Time</th>\n",
       "      <th>End Time</th>\n",
       "      <th>Student Enrollment</th>\n",
       "      <th>Percent White</th>\n",
       "      <th>Percent Black</th>\n",
       "      <th>Percent Hispanic</th>\n",
       "      <th>Percent Asian</th>\n",
       "      <th>Percent Tested</th>\n",
       "      <th>average_total_score</th>\n",
       "    </tr>\n",
       "  </thead>\n",
       "  <tbody>\n",
       "    <tr>\n",
       "      <th>399</th>\n",
       "      <td>29Q492</td>\n",
       "      <td>Queens</td>\n",
       "      <td>Q490</td>\n",
       "      <td>Cambria Heights</td>\n",
       "      <td>11411</td>\n",
       "      <td>40.69554</td>\n",
       "      <td>-73.73492</td>\n",
       "      <td>8:00 AM</td>\n",
       "      <td>2:25 PM</td>\n",
       "      <td>433.0</td>\n",
       "      <td>0.016</td>\n",
       "      <td>0.723</td>\n",
       "      <td>0.118</td>\n",
       "      <td>0.099</td>\n",
       "      <td>0.549</td>\n",
       "      <td>1186.0</td>\n",
       "    </tr>\n",
       "    <tr>\n",
       "      <th>237</th>\n",
       "      <td>30Q301</td>\n",
       "      <td>Queens</td>\n",
       "      <td>Q404</td>\n",
       "      <td>Long Island City</td>\n",
       "      <td>11101</td>\n",
       "      <td>40.74114</td>\n",
       "      <td>-73.94969</td>\n",
       "      <td>9:00 AM</td>\n",
       "      <td>3:30 PM</td>\n",
       "      <td>515.0</td>\n",
       "      <td>0.208</td>\n",
       "      <td>0.159</td>\n",
       "      <td>0.542</td>\n",
       "      <td>0.058</td>\n",
       "      <td>0.950</td>\n",
       "      <td>1346.0</td>\n",
       "    </tr>\n",
       "    <tr>\n",
       "      <th>273</th>\n",
       "      <td>13K412</td>\n",
       "      <td>Brooklyn</td>\n",
       "      <td>K117</td>\n",
       "      <td>Brooklyn</td>\n",
       "      <td>11205</td>\n",
       "      <td>40.69258</td>\n",
       "      <td>-73.95887</td>\n",
       "      <td>8:30 AM</td>\n",
       "      <td>3:20 PM</td>\n",
       "      <td>404.0</td>\n",
       "      <td>0.007</td>\n",
       "      <td>0.785</td>\n",
       "      <td>0.178</td>\n",
       "      <td>0.012</td>\n",
       "      <td>0.517</td>\n",
       "      <td>1124.0</td>\n",
       "    </tr>\n",
       "    <tr>\n",
       "      <th>61</th>\n",
       "      <td>03M541</td>\n",
       "      <td>Manhattan</td>\n",
       "      <td>M490</td>\n",
       "      <td>Manhattan</td>\n",
       "      <td>10023</td>\n",
       "      <td>40.77430</td>\n",
       "      <td>-73.98482</td>\n",
       "      <td>8:00 AM</td>\n",
       "      <td>2:30 PM</td>\n",
       "      <td>451.0</td>\n",
       "      <td>0.131</td>\n",
       "      <td>0.164</td>\n",
       "      <td>0.379</td>\n",
       "      <td>0.259</td>\n",
       "      <td>0.972</td>\n",
       "      <td>1647.0</td>\n",
       "    </tr>\n",
       "    <tr>\n",
       "      <th>397</th>\n",
       "      <td>29Q498</td>\n",
       "      <td>Queens</td>\n",
       "      <td>Q490</td>\n",
       "      <td>Cambria Heights</td>\n",
       "      <td>11411</td>\n",
       "      <td>40.69554</td>\n",
       "      <td>-73.73492</td>\n",
       "      <td>8:00 AM</td>\n",
       "      <td>2:45 PM</td>\n",
       "      <td>525.0</td>\n",
       "      <td>0.011</td>\n",
       "      <td>0.810</td>\n",
       "      <td>0.118</td>\n",
       "      <td>0.055</td>\n",
       "      <td>0.602</td>\n",
       "      <td>1194.0</td>\n",
       "    </tr>\n",
       "  </tbody>\n",
       "</table>\n",
       "</div>"
      ],
      "text/plain": [
       "    School ID    Borough Building Code              City  Zip Code  Latitude  \\\n",
       "399    29Q492     Queens          Q490   Cambria Heights     11411  40.69554   \n",
       "237    30Q301     Queens          Q404  Long Island City     11101  40.74114   \n",
       "273    13K412   Brooklyn          K117          Brooklyn     11205  40.69258   \n",
       "61     03M541  Manhattan          M490         Manhattan     10023  40.77430   \n",
       "397    29Q498     Queens          Q490   Cambria Heights     11411  40.69554   \n",
       "\n",
       "     Longitude Start Time End Time  Student Enrollment  Percent White  \\\n",
       "399  -73.73492    8:00 AM  2:25 PM               433.0          0.016   \n",
       "237  -73.94969    9:00 AM  3:30 PM               515.0          0.208   \n",
       "273  -73.95887    8:30 AM  3:20 PM               404.0          0.007   \n",
       "61   -73.98482    8:00 AM  2:30 PM               451.0          0.131   \n",
       "397  -73.73492    8:00 AM  2:45 PM               525.0          0.011   \n",
       "\n",
       "     Percent Black  Percent Hispanic  Percent Asian  Percent Tested  \\\n",
       "399          0.723             0.118          0.099           0.549   \n",
       "237          0.159             0.542          0.058           0.950   \n",
       "273          0.785             0.178          0.012           0.517   \n",
       "61           0.164             0.379          0.259           0.972   \n",
       "397          0.810             0.118          0.055           0.602   \n",
       "\n",
       "     average_total_score  \n",
       "399               1186.0  \n",
       "237               1346.0  \n",
       "273               1124.0  \n",
       "61                1647.0  \n",
       "397               1194.0  "
      ]
     },
     "execution_count": 16,
     "metadata": {},
     "output_type": "execute_result"
    }
   ],
   "source": [
    "test_set.head()"
   ]
  },
  {
   "cell_type": "code",
   "execution_count": 17,
   "id": "1c17dbf6",
   "metadata": {},
   "outputs": [
    {
     "data": {
      "text/plain": [
       "<AxesSubplot:>"
      ]
     },
     "execution_count": 17,
     "metadata": {},
     "output_type": "execute_result"
    },
    {
     "data": {
      "image/png": "[encoded data removed]",
      "text/plain": [
       "<Figure size 432x288 with 1 Axes>"
      ]
     },
     "metadata": {
      "needs_background": "light"
     },
     "output_type": "display_data"
    }
   ],
   "source": [
    "data[\"Student Enrollment\"].hist()"
   ]
  },
  {
   "cell_type": "code",
   "execution_count": 18,
   "id": "ba2ae026",
   "metadata": {},
   "outputs": [],
   "source": [
    "data[\"enrollment_cat\"] = pd.cut(data[\"Student Enrollment\"],\n",
    "                               bins=[0., 500, 1000, 1500, 2000, np.inf],\n",
    "                               labels=[1, 2, 3, 4, 5])"
   ]
  },
  {
   "cell_type": "code",
   "execution_count": 19,
   "id": "e300f612",
   "metadata": {},
   "outputs": [
    {
     "data": {
      "text/plain": [
       "School ID               0\n",
       "Borough                 0\n",
       "Building Code           0\n",
       "City                    0\n",
       "Zip Code                0\n",
       "Latitude                0\n",
       "Longitude               0\n",
       "Start Time              4\n",
       "End Time                4\n",
       "Student Enrollment      7\n",
       "Percent White           7\n",
       "Percent Black           7\n",
       "Percent Hispanic        7\n",
       "Percent Asian           7\n",
       "Percent Tested         49\n",
       "average_total_score    60\n",
       "enrollment_cat          7\n",
       "dtype: int64"
      ]
     },
     "execution_count": 19,
     "metadata": {},
     "output_type": "execute_result"
    }
   ],
   "source": [
    "data.isna().sum()"
   ]
  },
  {
   "cell_type": "code",
   "execution_count": 20,
   "id": "8d800a18",
   "metadata": {},
   "outputs": [
    {
     "data": {
      "text/html": [
       "<div>\n",
       "<style scoped>\n",
       "    .dataframe tbody tr th:only-of-type {\n",
       "        vertical-align: middle;\n",
       "    }\n",
       "\n",
       "    .dataframe tbody tr th {\n",
       "        vertical-align: top;\n",
       "    }\n",
       "\n",
       "    .dataframe thead th {\n",
       "        text-align: right;\n",
       "    }\n",
       "</style>\n",
       "<table border=\"1\" class=\"dataframe\">\n",
       "  <thead>\n",
       "    <tr style=\"text-align: right;\">\n",
       "      <th></th>\n",
       "      <th>School ID</th>\n",
       "      <th>Borough</th>\n",
       "      <th>Building Code</th>\n",
       "      <th>City</th>\n",
       "      <th>Zip Code</th>\n",
       "      <th>Latitude</th>\n",
       "      <th>Longitude</th>\n",
       "      <th>Start Time</th>\n",
       "      <th>End Time</th>\n",
       "      <th>Student Enrollment</th>\n",
       "      <th>Percent White</th>\n",
       "      <th>Percent Black</th>\n",
       "      <th>Percent Hispanic</th>\n",
       "      <th>Percent Asian</th>\n",
       "      <th>Percent Tested</th>\n",
       "      <th>average_total_score</th>\n",
       "      <th>enrollment_cat</th>\n",
       "    </tr>\n",
       "  </thead>\n",
       "  <tbody>\n",
       "    <tr>\n",
       "      <th>0</th>\n",
       "      <td>02M260</td>\n",
       "      <td>Manhattan</td>\n",
       "      <td>M933</td>\n",
       "      <td>Manhattan</td>\n",
       "      <td>10001</td>\n",
       "      <td>40.75321</td>\n",
       "      <td>-73.99786</td>\n",
       "      <td>NaN</td>\n",
       "      <td>NaN</td>\n",
       "      <td>NaN</td>\n",
       "      <td>NaN</td>\n",
       "      <td>NaN</td>\n",
       "      <td>NaN</td>\n",
       "      <td>NaN</td>\n",
       "      <td>NaN</td>\n",
       "      <td>NaN</td>\n",
       "      <td>NaN</td>\n",
       "    </tr>\n",
       "    <tr>\n",
       "      <th>1</th>\n",
       "      <td>06M211</td>\n",
       "      <td>Manhattan</td>\n",
       "      <td>M052</td>\n",
       "      <td>Manhattan</td>\n",
       "      <td>10002</td>\n",
       "      <td>40.86605</td>\n",
       "      <td>-73.92486</td>\n",
       "      <td>8:30 AM</td>\n",
       "      <td>3:00 PM</td>\n",
       "      <td>87.0</td>\n",
       "      <td>0.034</td>\n",
       "      <td>0.218</td>\n",
       "      <td>0.678</td>\n",
       "      <td>0.046</td>\n",
       "      <td>NaN</td>\n",
       "      <td>NaN</td>\n",
       "      <td>1</td>\n",
       "    </tr>\n",
       "    <tr>\n",
       "      <th>2</th>\n",
       "      <td>01M539</td>\n",
       "      <td>Manhattan</td>\n",
       "      <td>M022</td>\n",
       "      <td>Manhattan</td>\n",
       "      <td>10002</td>\n",
       "      <td>40.71873</td>\n",
       "      <td>-73.97943</td>\n",
       "      <td>8:15 AM</td>\n",
       "      <td>4:00 PM</td>\n",
       "      <td>1735.0</td>\n",
       "      <td>0.286</td>\n",
       "      <td>0.133</td>\n",
       "      <td>0.180</td>\n",
       "      <td>0.385</td>\n",
       "      <td>0.910</td>\n",
       "      <td>1859.0</td>\n",
       "      <td>4</td>\n",
       "    </tr>\n",
       "    <tr>\n",
       "      <th>3</th>\n",
       "      <td>02M294</td>\n",
       "      <td>Manhattan</td>\n",
       "      <td>M445</td>\n",
       "      <td>Manhattan</td>\n",
       "      <td>10002</td>\n",
       "      <td>40.71687</td>\n",
       "      <td>-73.98953</td>\n",
       "      <td>8:00 AM</td>\n",
       "      <td>2:45 PM</td>\n",
       "      <td>358.0</td>\n",
       "      <td>0.117</td>\n",
       "      <td>0.385</td>\n",
       "      <td>0.413</td>\n",
       "      <td>0.059</td>\n",
       "      <td>0.789</td>\n",
       "      <td>1193.0</td>\n",
       "      <td>1</td>\n",
       "    </tr>\n",
       "    <tr>\n",
       "      <th>4</th>\n",
       "      <td>02M308</td>\n",
       "      <td>Manhattan</td>\n",
       "      <td>M445</td>\n",
       "      <td>Manhattan</td>\n",
       "      <td>10002</td>\n",
       "      <td>40.71687</td>\n",
       "      <td>-73.98953</td>\n",
       "      <td>8:30 AM</td>\n",
       "      <td>3:00 PM</td>\n",
       "      <td>383.0</td>\n",
       "      <td>0.031</td>\n",
       "      <td>0.282</td>\n",
       "      <td>0.569</td>\n",
       "      <td>0.086</td>\n",
       "      <td>0.651</td>\n",
       "      <td>1261.0</td>\n",
       "      <td>1</td>\n",
       "    </tr>\n",
       "  </tbody>\n",
       "</table>\n",
       "</div>"
      ],
      "text/plain": [
       "  School ID    Borough Building Code       City  Zip Code  Latitude  \\\n",
       "0    02M260  Manhattan          M933  Manhattan     10001  40.75321   \n",
       "1    06M211  Manhattan          M052  Manhattan     10002  40.86605   \n",
       "2    01M539  Manhattan          M022  Manhattan     10002  40.71873   \n",
       "3    02M294  Manhattan          M445  Manhattan     10002  40.71687   \n",
       "4    02M308  Manhattan          M445  Manhattan     10002  40.71687   \n",
       "\n",
       "   Longitude Start Time End Time  Student Enrollment  Percent White  \\\n",
       "0  -73.99786        NaN      NaN                 NaN            NaN   \n",
       "1  -73.92486    8:30 AM  3:00 PM                87.0          0.034   \n",
       "2  -73.97943    8:15 AM  4:00 PM              1735.0          0.286   \n",
       "3  -73.98953    8:00 AM  2:45 PM               358.0          0.117   \n",
       "4  -73.98953    8:30 AM  3:00 PM               383.0          0.031   \n",
       "\n",
       "   Percent Black  Percent Hispanic  Percent Asian  Percent Tested  \\\n",
       "0            NaN               NaN            NaN             NaN   \n",
       "1          0.218             0.678          0.046             NaN   \n",
       "2          0.133             0.180          0.385           0.910   \n",
       "3          0.385             0.413          0.059           0.789   \n",
       "4          0.282             0.569          0.086           0.651   \n",
       "\n",
       "   average_total_score enrollment_cat  \n",
       "0                  NaN            NaN  \n",
       "1                  NaN              1  \n",
       "2               1859.0              4  \n",
       "3               1193.0              1  \n",
       "4               1261.0              1  "
      ]
     },
     "execution_count": 20,
     "metadata": {},
     "output_type": "execute_result"
    }
   ],
   "source": [
    "data.head()"
   ]
  },
  {
   "cell_type": "code",
   "execution_count": 21,
   "id": "a285e72a",
   "metadata": {},
   "outputs": [
    {
     "data": {
      "text/plain": [
       "1    249\n",
       "2    117\n",
       "5     31\n",
       "3     21\n",
       "4     10\n",
       "Name: enrollment_cat, dtype: int64"
      ]
     },
     "execution_count": 21,
     "metadata": {},
     "output_type": "execute_result"
    }
   ],
   "source": [
    "data[\"enrollment_cat\"].value_counts()"
   ]
  },
  {
   "cell_type": "code",
   "execution_count": 22,
   "id": "74f3811a",
   "metadata": {},
   "outputs": [
    {
     "data": {
      "text/plain": [
       "<AxesSubplot:>"
      ]
     },
     "execution_count": 22,
     "metadata": {},
     "output_type": "execute_result"
    },
    {
     "data": {
      "image/png": "[encoded data removed]",
      "text/plain": [
       "<Figure size 432x288 with 1 Axes>"
      ]
     },
     "metadata": {
      "needs_background": "light"
     },
     "output_type": "display_data"
    }
   ],
   "source": [
    "data[\"enrollment_cat\"].hist()"
   ]
  },
  {
   "cell_type": "code",
   "execution_count": 23,
   "id": "6cdada24",
   "metadata": {},
   "outputs": [],
   "source": [
    "from sklearn.model_selection import StratifiedShuffleSplit\n",
    "\n",
    "data = data[data['enrollment_cat'].notna()]\n",
    "\n",
    "split = StratifiedShuffleSplit(n_splits=1, test_size=0.2, random_state=25)\n",
    "for train_index, test_index in split.split(data, data[\"enrollment_cat\"]):\n",
    "    strat_train_set = data.iloc[train_index]\n",
    "    strat_test_set = data.iloc[test_index]"
   ]
  },
  {
   "cell_type": "code",
   "execution_count": 24,
   "id": "49f71163",
   "metadata": {},
   "outputs": [
    {
     "data": {
      "text/plain": [
       "1    0.581395\n",
       "2    0.279070\n",
       "5    0.069767\n",
       "3    0.046512\n",
       "4    0.023256\n",
       "Name: enrollment_cat, dtype: float64"
      ]
     },
     "execution_count": 24,
     "metadata": {},
     "output_type": "execute_result"
    }
   ],
   "source": [
    "strat_test_set[\"enrollment_cat\"].value_counts() / len(strat_test_set)"
   ]
  },
  {
   "cell_type": "code",
   "execution_count": 25,
   "id": "1c2be47d",
   "metadata": {},
   "outputs": [
    {
     "data": {
      "text/plain": [
       "1    0.581776\n",
       "2    0.273364\n",
       "5    0.072430\n",
       "3    0.049065\n",
       "4    0.023364\n",
       "Name: enrollment_cat, dtype: float64"
      ]
     },
     "execution_count": 25,
     "metadata": {},
     "output_type": "execute_result"
    }
   ],
   "source": [
    "data[\"enrollment_cat\"].value_counts() / len(data)"
   ]
  },
  {
   "cell_type": "code",
   "execution_count": 26,
   "id": "72f1d999",
   "metadata": {},
   "outputs": [],
   "source": [
    "def enrollment_cat_proportions(dataset):\n",
    "    return dataset[\"enrollment_cat\"].value_counts() / len(dataset)\n",
    "\n",
    "train_set, test_set = train_test_split(data, test_size=0.2, random_state=25)\n",
    "\n",
    "compare_props = pd.DataFrame({\n",
    "    \"Overall\": enrollment_cat_proportions(data),\n",
    "    \"Stratified\": enrollment_cat_proportions(strat_test_set),\n",
    "    \"Random\": enrollment_cat_proportions(test_set),\n",
    "}).sort_index()\n",
    "compare_props[\"Rand. %error\"] = 100 * compare_props[\"Random\"] / compare_props[\"Overall\"] - 100\n",
    "compare_props[\"Strat. %error\"] = 100 * compare_props[\"Stratified\"] / compare_props[\"Overall\"] - 100"
   ]
  },
  {
   "cell_type": "code",
   "execution_count": 27,
   "id": "07179fb0",
   "metadata": {},
   "outputs": [
    {
     "data": {
      "text/html": [
       "<div>\n",
       "<style scoped>\n",
       "    .dataframe tbody tr th:only-of-type {\n",
       "        vertical-align: middle;\n",
       "    }\n",
       "\n",
       "    .dataframe tbody tr th {\n",
       "        vertical-align: top;\n",
       "    }\n",
       "\n",
       "    .dataframe thead th {\n",
       "        text-align: right;\n",
       "    }\n",
       "</style>\n",
       "<table border=\"1\" class=\"dataframe\">\n",
       "  <thead>\n",
       "    <tr style=\"text-align: right;\">\n",
       "      <th></th>\n",
       "      <th>Overall</th>\n",
       "      <th>Stratified</th>\n",
       "      <th>Random</th>\n",
       "      <th>Rand. %error</th>\n",
       "      <th>Strat. %error</th>\n",
       "    </tr>\n",
       "  </thead>\n",
       "  <tbody>\n",
       "    <tr>\n",
       "      <th>1</th>\n",
       "      <td>0.581776</td>\n",
       "      <td>0.581395</td>\n",
       "      <td>0.558140</td>\n",
       "      <td>-4.062763</td>\n",
       "      <td>-0.065378</td>\n",
       "    </tr>\n",
       "    <tr>\n",
       "      <th>2</th>\n",
       "      <td>0.273364</td>\n",
       "      <td>0.279070</td>\n",
       "      <td>0.290698</td>\n",
       "      <td>6.340688</td>\n",
       "      <td>2.087060</td>\n",
       "    </tr>\n",
       "    <tr>\n",
       "      <th>3</th>\n",
       "      <td>0.049065</td>\n",
       "      <td>0.046512</td>\n",
       "      <td>0.011628</td>\n",
       "      <td>-76.301218</td>\n",
       "      <td>-5.204873</td>\n",
       "    </tr>\n",
       "    <tr>\n",
       "      <th>4</th>\n",
       "      <td>0.023364</td>\n",
       "      <td>0.023256</td>\n",
       "      <td>0.011628</td>\n",
       "      <td>-50.232558</td>\n",
       "      <td>-0.465116</td>\n",
       "    </tr>\n",
       "    <tr>\n",
       "      <th>5</th>\n",
       "      <td>0.072430</td>\n",
       "      <td>0.069767</td>\n",
       "      <td>0.127907</td>\n",
       "      <td>76.594149</td>\n",
       "      <td>-3.675919</td>\n",
       "    </tr>\n",
       "  </tbody>\n",
       "</table>\n",
       "</div>"
      ],
      "text/plain": [
       "    Overall  Stratified    Random  Rand. %error  Strat. %error\n",
       "1  0.581776    0.581395  0.558140     -4.062763      -0.065378\n",
       "2  0.273364    0.279070  0.290698      6.340688       2.087060\n",
       "3  0.049065    0.046512  0.011628    -76.301218      -5.204873\n",
       "4  0.023364    0.023256  0.011628    -50.232558      -0.465116\n",
       "5  0.072430    0.069767  0.127907     76.594149      -3.675919"
      ]
     },
     "execution_count": 27,
     "metadata": {},
     "output_type": "execute_result"
    }
   ],
   "source": [
    "compare_props"
   ]
  },
  {
   "cell_type": "code",
   "execution_count": 28,
   "id": "6cda9cd7",
   "metadata": {},
   "outputs": [
    {
     "name": "stderr",
     "output_type": "stream",
     "text": [
      "C:\\Users\\rebeccamukena\\anaconda3\\lib\\site-packages\\pandas\\core\\frame.py:4308: SettingWithCopyWarning: \n",
      "A value is trying to be set on a copy of a slice from a DataFrame\n",
      "\n",
      "See the caveats in the documentation: https://pandas.pydata.org/pandas-docs/stable/user_guide/indexing.html#returning-a-view-versus-a-copy\n",
      "  return super().drop(\n"
     ]
    }
   ],
   "source": [
    "for set_ in (strat_train_set, strat_test_set):\n",
    "    set_.drop(\"enrollment_cat\", axis=1, inplace=True)"
   ]
  },
  {
   "cell_type": "code",
   "execution_count": null,
   "id": "1fcf9376",
   "metadata": {},
   "outputs": [],
   "source": []
  },
  {
   "cell_type": "markdown",
   "id": "51b9abc3",
   "metadata": {},
   "source": [
    "# Discover and Visualize the Data"
   ]
  },
  {
   "cell_type": "code",
   "execution_count": 29,
   "id": "b335f6c7",
   "metadata": {},
   "outputs": [
    {
     "data": {
      "text/html": [
       "<div>\n",
       "<style scoped>\n",
       "    .dataframe tbody tr th:only-of-type {\n",
       "        vertical-align: middle;\n",
       "    }\n",
       "\n",
       "    .dataframe tbody tr th {\n",
       "        vertical-align: top;\n",
       "    }\n",
       "\n",
       "    .dataframe thead th {\n",
       "        text-align: right;\n",
       "    }\n",
       "</style>\n",
       "<table border=\"1\" class=\"dataframe\">\n",
       "  <thead>\n",
       "    <tr style=\"text-align: right;\">\n",
       "      <th></th>\n",
       "      <th>School ID</th>\n",
       "      <th>Borough</th>\n",
       "      <th>Building Code</th>\n",
       "      <th>City</th>\n",
       "      <th>Zip Code</th>\n",
       "      <th>Latitude</th>\n",
       "      <th>Longitude</th>\n",
       "      <th>Start Time</th>\n",
       "      <th>End Time</th>\n",
       "      <th>Student Enrollment</th>\n",
       "      <th>Percent White</th>\n",
       "      <th>Percent Black</th>\n",
       "      <th>Percent Hispanic</th>\n",
       "      <th>Percent Asian</th>\n",
       "      <th>Percent Tested</th>\n",
       "      <th>average_total_score</th>\n",
       "    </tr>\n",
       "  </thead>\n",
       "  <tbody>\n",
       "    <tr>\n",
       "      <th>80</th>\n",
       "      <td>05M692</td>\n",
       "      <td>Manhattan</td>\n",
       "      <td>M812</td>\n",
       "      <td>Manhattan</td>\n",
       "      <td>10031</td>\n",
       "      <td>40.82112</td>\n",
       "      <td>-73.94885</td>\n",
       "      <td>8:00 AM</td>\n",
       "      <td>3:35 PM</td>\n",
       "      <td>470.0</td>\n",
       "      <td>0.268</td>\n",
       "      <td>0.096</td>\n",
       "      <td>0.217</td>\n",
       "      <td>0.385</td>\n",
       "      <td>0.926</td>\n",
       "      <td>1889.0</td>\n",
       "    </tr>\n",
       "    <tr>\n",
       "      <th>40</th>\n",
       "      <td>02M615</td>\n",
       "      <td>Manhattan</td>\n",
       "      <td>M615</td>\n",
       "      <td>Manhattan</td>\n",
       "      <td>10013</td>\n",
       "      <td>40.72435</td>\n",
       "      <td>-74.00476</td>\n",
       "      <td>8:30 AM</td>\n",
       "      <td>4:00 PM</td>\n",
       "      <td>439.0</td>\n",
       "      <td>0.032</td>\n",
       "      <td>0.289</td>\n",
       "      <td>0.574</td>\n",
       "      <td>0.082</td>\n",
       "      <td>0.804</td>\n",
       "      <td>1257.0</td>\n",
       "    </tr>\n",
       "    <tr>\n",
       "      <th>164</th>\n",
       "      <td>10X437</td>\n",
       "      <td>Bronx</td>\n",
       "      <td>X435</td>\n",
       "      <td>Bronx</td>\n",
       "      <td>10458</td>\n",
       "      <td>40.86001</td>\n",
       "      <td>-73.88823</td>\n",
       "      <td>8:00 AM</td>\n",
       "      <td>3:45 PM</td>\n",
       "      <td>401.0</td>\n",
       "      <td>0.025</td>\n",
       "      <td>0.309</td>\n",
       "      <td>0.651</td>\n",
       "      <td>0.010</td>\n",
       "      <td>0.562</td>\n",
       "      <td>1214.0</td>\n",
       "    </tr>\n",
       "    <tr>\n",
       "      <th>298</th>\n",
       "      <td>22K405</td>\n",
       "      <td>Brooklyn</td>\n",
       "      <td>K405</td>\n",
       "      <td>Brooklyn</td>\n",
       "      <td>11210</td>\n",
       "      <td>40.63334</td>\n",
       "      <td>-73.95292</td>\n",
       "      <td>8:45 AM</td>\n",
       "      <td>3:30 PM</td>\n",
       "      <td>3787.0</td>\n",
       "      <td>0.233</td>\n",
       "      <td>0.298</td>\n",
       "      <td>0.125</td>\n",
       "      <td>0.337</td>\n",
       "      <td>0.857</td>\n",
       "      <td>1580.0</td>\n",
       "    </tr>\n",
       "    <tr>\n",
       "      <th>312</th>\n",
       "      <td>21K348</td>\n",
       "      <td>Brooklyn</td>\n",
       "      <td>K400</td>\n",
       "      <td>Brooklyn</td>\n",
       "      <td>11214</td>\n",
       "      <td>40.59359</td>\n",
       "      <td>-73.98473</td>\n",
       "      <td>7:45 AM</td>\n",
       "      <td>3:45 PM</td>\n",
       "      <td>290.0</td>\n",
       "      <td>0.055</td>\n",
       "      <td>0.724</td>\n",
       "      <td>0.169</td>\n",
       "      <td>0.038</td>\n",
       "      <td>0.562</td>\n",
       "      <td>1102.0</td>\n",
       "    </tr>\n",
       "  </tbody>\n",
       "</table>\n",
       "</div>"
      ],
      "text/plain": [
       "    School ID    Borough Building Code       City  Zip Code  Latitude  \\\n",
       "80     05M692  Manhattan          M812  Manhattan     10031  40.82112   \n",
       "40     02M615  Manhattan          M615  Manhattan     10013  40.72435   \n",
       "164    10X437      Bronx          X435      Bronx     10458  40.86001   \n",
       "298    22K405   Brooklyn          K405   Brooklyn     11210  40.63334   \n",
       "312    21K348   Brooklyn          K400   Brooklyn     11214  40.59359   \n",
       "\n",
       "     Longitude Start Time End Time  Student Enrollment  Percent White  \\\n",
       "80   -73.94885    8:00 AM  3:35 PM               470.0          0.268   \n",
       "40   -74.00476    8:30 AM  4:00 PM               439.0          0.032   \n",
       "164  -73.88823    8:00 AM  3:45 PM               401.0          0.025   \n",
       "298  -73.95292    8:45 AM  3:30 PM              3787.0          0.233   \n",
       "312  -73.98473    7:45 AM  3:45 PM               290.0          0.055   \n",
       "\n",
       "     Percent Black  Percent Hispanic  Percent Asian  Percent Tested  \\\n",
       "80           0.096             0.217          0.385           0.926   \n",
       "40           0.289             0.574          0.082           0.804   \n",
       "164          0.309             0.651          0.010           0.562   \n",
       "298          0.298             0.125          0.337           0.857   \n",
       "312          0.724             0.169          0.038           0.562   \n",
       "\n",
       "     average_total_score  \n",
       "80                1889.0  \n",
       "40                1257.0  \n",
       "164               1214.0  \n",
       "298               1580.0  \n",
       "312               1102.0  "
      ]
     },
     "execution_count": 29,
     "metadata": {},
     "output_type": "execute_result"
    }
   ],
   "source": [
    "data = strat_train_set.copy()\n",
    "data.head()"
   ]
  },
  {
   "cell_type": "markdown",
   "id": "b20d5fd4",
   "metadata": {},
   "source": [
    "## Visualizing Geographical Data"
   ]
  },
  {
   "cell_type": "code",
   "execution_count": 30,
   "id": "bab3ffb0",
   "metadata": {},
   "outputs": [
    {
     "data": {
      "image/png": "[encoded data removed]",
      "text/plain": [
       "<Figure size 432x288 with 1 Axes>"
      ]
     },
     "metadata": {
      "needs_background": "light"
     },
     "output_type": "display_data"
    }
   ],
   "source": [
    "data.plot(kind=\"scatter\", x=\"Longitude\", y=\"Latitude\")\n",
    "plt.savefig(\"bad_visualization_plot\")"
   ]
  },
  {
   "cell_type": "code",
   "execution_count": 31,
   "id": "d6b8fc7e",
   "metadata": {},
   "outputs": [
    {
     "data": {
      "image/png": "[encoded data removed]",
      "text/plain": [
       "<Figure size 432x288 with 1 Axes>"
      ]
     },
     "metadata": {
      "needs_background": "light"
     },
     "output_type": "display_data"
    }
   ],
   "source": [
    "data.plot(kind=\"scatter\", x=\"Longitude\", y=\"Latitude\", alpha=0.3)\n",
    "plt.savefig(\"better_visualization_plot\")"
   ]
  },
  {
   "cell_type": "code",
   "execution_count": 32,
   "id": "eadbbbbc",
   "metadata": {},
   "outputs": [
    {
     "data": {
      "image/png": "[encoded data removed]",
      "text/plain": [
       "<Figure size 720x504 with 2 Axes>"
      ]
     },
     "metadata": {
      "needs_background": "light"
     },
     "output_type": "display_data"
    }
   ],
   "source": [
    "data.plot(kind=\"scatter\", x=\"Longitude\", y=\"Latitude\", alpha=0.4,\n",
    "             s=data[\"Student Enrollment\"]/100, label=\"enrollment\", figsize=(10,7),\n",
    "             c=\"average_total_score\", cmap=plt.get_cmap(\"jet\"), colorbar=True,\n",
    "             sharex=False)\n",
    "plt.legend()\n",
    "plt.savefig(\"scores_scatterplot\")"
   ]
  },
  {
   "cell_type": "code",
   "execution_count": 33,
   "id": "b658ca94",
   "metadata": {},
   "outputs": [],
   "source": [
    "# Extra: Find NY image"
   ]
  },
  {
   "cell_type": "markdown",
   "id": "e55d8f0e",
   "metadata": {},
   "source": [
    "## Correlation"
   ]
  },
  {
   "cell_type": "code",
   "execution_count": 34,
   "id": "40384040",
   "metadata": {},
   "outputs": [],
   "source": [
    "corr_matrix = data.corr()"
   ]
  },
  {
   "cell_type": "code",
   "execution_count": 35,
   "id": "f0de610b",
   "metadata": {},
   "outputs": [
    {
     "data": {
      "text/plain": [
       "average_total_score    1.000000\n",
       "Percent White          0.643215\n",
       "Percent Asian          0.616540\n",
       "Percent Tested         0.591409\n",
       "Student Enrollment     0.398092\n",
       "Zip Code              -0.069265\n",
       "Latitude              -0.147067\n",
       "Longitude             -0.153895\n",
       "Percent Black         -0.303411\n",
       "Percent Hispanic      -0.427499\n",
       "Name: average_total_score, dtype: float64"
      ]
     },
     "execution_count": 35,
     "metadata": {},
     "output_type": "execute_result"
    }
   ],
   "source": [
    "corr_matrix[\"average_total_score\"].sort_values(ascending=False)"
   ]
  },
  {
   "cell_type": "code",
   "execution_count": 36,
   "id": "2515400e",
   "metadata": {},
   "outputs": [
    {
     "data": {
      "image/png": "[encoded data removed]",
      "text/plain": [
       "<Figure size 864x576 with 64 Axes>"
      ]
     },
     "metadata": {
      "needs_background": "light"
     },
     "output_type": "display_data"
    }
   ],
   "source": [
    "from pandas.plotting import scatter_matrix\n",
    "\n",
    "attributes = [\"average_total_score\", \"Zip Code\", \"Student Enrollment\", \"Percent White\", \"Percent Black\", \"Percent Hispanic\", \"Percent Asian\", \"Percent Tested\"]\n",
    "scatter_matrix(data[attributes], figsize=(12, 8))\n",
    "plt.savefig(\"scatter_matrix_plot\")"
   ]
  },
  {
   "cell_type": "code",
   "execution_count": 37,
   "id": "fcd30cbc",
   "metadata": {},
   "outputs": [
    {
     "data": {
      "image/png": "[encoded data removed]",
      "text/plain": [
       "<Figure size 432x288 with 1 Axes>"
      ]
     },
     "metadata": {
      "needs_background": "light"
     },
     "output_type": "display_data"
    }
   ],
   "source": [
    "data.plot(kind=\"scatter\", x=\"Student Enrollment\", y=\"average_total_score\", alpha=0.3)\n",
    "plt.axis([0, 2400, 0, 2400])\n",
    "plt.savefig(\"enrollment_vs_score_scatterplot\")"
   ]
  },
  {
   "cell_type": "code",
   "execution_count": 38,
   "id": "050c9f6b",
   "metadata": {},
   "outputs": [
    {
     "data": {
      "image/png": "[encoded data removed]",
      "text/plain": [
       "<Figure size 432x288 with 1 Axes>"
      ]
     },
     "metadata": {
      "needs_background": "light"
     },
     "output_type": "display_data"
    }
   ],
   "source": [
    "data.plot(kind=\"scatter\", x=\"Zip Code\", y=\"average_total_score\", alpha=0.3)\n",
    "plt.axis([0, 12000, 0, 2400])\n",
    "plt.savefig(\"zipcode_vs_score_scatterplot\")"
   ]
  },
  {
   "cell_type": "code",
   "execution_count": 39,
   "id": "9853c6ee",
   "metadata": {},
   "outputs": [],
   "source": [
    "# Cannot experiment with attibute combinations"
   ]
  },
  {
   "cell_type": "markdown",
   "id": "3882e009",
   "metadata": {},
   "source": [
    "# Prepare the Data for Machine Learning Algorithms"
   ]
  },
  {
   "cell_type": "code",
   "execution_count": 40,
   "id": "939105b8",
   "metadata": {},
   "outputs": [],
   "source": [
    "# drop nans\n",
    "strat_train_set = strat_train_set.dropna()\n",
    "data = strat_train_set.drop(\"average_total_score\", axis=1) # drop labels for training set\n",
    "data_labels = strat_train_set[\"average_total_score\"].copy()"
   ]
  },
  {
   "cell_type": "code",
   "execution_count": 41,
   "id": "376dc218",
   "metadata": {},
   "outputs": [
    {
     "data": {
      "text/html": [
       "<div>\n",
       "<style scoped>\n",
       "    .dataframe tbody tr th:only-of-type {\n",
       "        vertical-align: middle;\n",
       "    }\n",
       "\n",
       "    .dataframe tbody tr th {\n",
       "        vertical-align: top;\n",
       "    }\n",
       "\n",
       "    .dataframe thead th {\n",
       "        text-align: right;\n",
       "    }\n",
       "</style>\n",
       "<table border=\"1\" class=\"dataframe\">\n",
       "  <thead>\n",
       "    <tr style=\"text-align: right;\">\n",
       "      <th></th>\n",
       "      <th>School ID</th>\n",
       "      <th>Borough</th>\n",
       "      <th>Building Code</th>\n",
       "      <th>City</th>\n",
       "      <th>Zip Code</th>\n",
       "      <th>Latitude</th>\n",
       "      <th>Longitude</th>\n",
       "      <th>Start Time</th>\n",
       "      <th>End Time</th>\n",
       "      <th>Student Enrollment</th>\n",
       "      <th>Percent White</th>\n",
       "      <th>Percent Black</th>\n",
       "      <th>Percent Hispanic</th>\n",
       "      <th>Percent Asian</th>\n",
       "      <th>Percent Tested</th>\n",
       "    </tr>\n",
       "  </thead>\n",
       "  <tbody>\n",
       "    <tr>\n",
       "      <th>80</th>\n",
       "      <td>05M692</td>\n",
       "      <td>Manhattan</td>\n",
       "      <td>M812</td>\n",
       "      <td>Manhattan</td>\n",
       "      <td>10031</td>\n",
       "      <td>40.82112</td>\n",
       "      <td>-73.94885</td>\n",
       "      <td>8:00 AM</td>\n",
       "      <td>3:35 PM</td>\n",
       "      <td>470.0</td>\n",
       "      <td>0.268</td>\n",
       "      <td>0.096</td>\n",
       "      <td>0.217</td>\n",
       "      <td>0.385</td>\n",
       "      <td>0.926</td>\n",
       "    </tr>\n",
       "    <tr>\n",
       "      <th>40</th>\n",
       "      <td>02M615</td>\n",
       "      <td>Manhattan</td>\n",
       "      <td>M615</td>\n",
       "      <td>Manhattan</td>\n",
       "      <td>10013</td>\n",
       "      <td>40.72435</td>\n",
       "      <td>-74.00476</td>\n",
       "      <td>8:30 AM</td>\n",
       "      <td>4:00 PM</td>\n",
       "      <td>439.0</td>\n",
       "      <td>0.032</td>\n",
       "      <td>0.289</td>\n",
       "      <td>0.574</td>\n",
       "      <td>0.082</td>\n",
       "      <td>0.804</td>\n",
       "    </tr>\n",
       "    <tr>\n",
       "      <th>164</th>\n",
       "      <td>10X437</td>\n",
       "      <td>Bronx</td>\n",
       "      <td>X435</td>\n",
       "      <td>Bronx</td>\n",
       "      <td>10458</td>\n",
       "      <td>40.86001</td>\n",
       "      <td>-73.88823</td>\n",
       "      <td>8:00 AM</td>\n",
       "      <td>3:45 PM</td>\n",
       "      <td>401.0</td>\n",
       "      <td>0.025</td>\n",
       "      <td>0.309</td>\n",
       "      <td>0.651</td>\n",
       "      <td>0.010</td>\n",
       "      <td>0.562</td>\n",
       "    </tr>\n",
       "    <tr>\n",
       "      <th>298</th>\n",
       "      <td>22K405</td>\n",
       "      <td>Brooklyn</td>\n",
       "      <td>K405</td>\n",
       "      <td>Brooklyn</td>\n",
       "      <td>11210</td>\n",
       "      <td>40.63334</td>\n",
       "      <td>-73.95292</td>\n",
       "      <td>8:45 AM</td>\n",
       "      <td>3:30 PM</td>\n",
       "      <td>3787.0</td>\n",
       "      <td>0.233</td>\n",
       "      <td>0.298</td>\n",
       "      <td>0.125</td>\n",
       "      <td>0.337</td>\n",
       "      <td>0.857</td>\n",
       "    </tr>\n",
       "    <tr>\n",
       "      <th>312</th>\n",
       "      <td>21K348</td>\n",
       "      <td>Brooklyn</td>\n",
       "      <td>K400</td>\n",
       "      <td>Brooklyn</td>\n",
       "      <td>11214</td>\n",
       "      <td>40.59359</td>\n",
       "      <td>-73.98473</td>\n",
       "      <td>7:45 AM</td>\n",
       "      <td>3:45 PM</td>\n",
       "      <td>290.0</td>\n",
       "      <td>0.055</td>\n",
       "      <td>0.724</td>\n",
       "      <td>0.169</td>\n",
       "      <td>0.038</td>\n",
       "      <td>0.562</td>\n",
       "    </tr>\n",
       "    <tr>\n",
       "      <th>...</th>\n",
       "      <td>...</td>\n",
       "      <td>...</td>\n",
       "      <td>...</td>\n",
       "      <td>...</td>\n",
       "      <td>...</td>\n",
       "      <td>...</td>\n",
       "      <td>...</td>\n",
       "      <td>...</td>\n",
       "      <td>...</td>\n",
       "      <td>...</td>\n",
       "      <td>...</td>\n",
       "      <td>...</td>\n",
       "      <td>...</td>\n",
       "      <td>...</td>\n",
       "      <td>...</td>\n",
       "    </tr>\n",
       "    <tr>\n",
       "      <th>287</th>\n",
       "      <td>19K409</td>\n",
       "      <td>Brooklyn</td>\n",
       "      <td>K819</td>\n",
       "      <td>Brooklyn</td>\n",
       "      <td>11207</td>\n",
       "      <td>40.66064</td>\n",
       "      <td>-73.88634</td>\n",
       "      <td>8:00 AM</td>\n",
       "      <td>3:00 PM</td>\n",
       "      <td>479.0</td>\n",
       "      <td>0.004</td>\n",
       "      <td>0.676</td>\n",
       "      <td>0.295</td>\n",
       "      <td>0.022</td>\n",
       "      <td>0.667</td>\n",
       "    </tr>\n",
       "    <tr>\n",
       "      <th>83</th>\n",
       "      <td>06M346</td>\n",
       "      <td>Manhattan</td>\n",
       "      <td>M814</td>\n",
       "      <td>Manhattan</td>\n",
       "      <td>10032</td>\n",
       "      <td>40.83356</td>\n",
       "      <td>-73.94180</td>\n",
       "      <td>8:15 AM</td>\n",
       "      <td>3:00 PM</td>\n",
       "      <td>629.0</td>\n",
       "      <td>0.027</td>\n",
       "      <td>0.049</td>\n",
       "      <td>0.918</td>\n",
       "      <td>0.000</td>\n",
       "      <td>0.553</td>\n",
       "    </tr>\n",
       "    <tr>\n",
       "      <th>428</th>\n",
       "      <td>27Q260</td>\n",
       "      <td>Queens</td>\n",
       "      <td>Q465</td>\n",
       "      <td>Far Rockaway</td>\n",
       "      <td>11691</td>\n",
       "      <td>40.60199</td>\n",
       "      <td>-73.76283</td>\n",
       "      <td>7:45 AM</td>\n",
       "      <td>2:05 PM</td>\n",
       "      <td>409.0</td>\n",
       "      <td>0.007</td>\n",
       "      <td>0.597</td>\n",
       "      <td>0.379</td>\n",
       "      <td>0.015</td>\n",
       "      <td>0.301</td>\n",
       "    </tr>\n",
       "    <tr>\n",
       "      <th>328</th>\n",
       "      <td>20K485</td>\n",
       "      <td>Brooklyn</td>\n",
       "      <td>K485</td>\n",
       "      <td>Brooklyn</td>\n",
       "      <td>11220</td>\n",
       "      <td>40.63725</td>\n",
       "      <td>-74.02382</td>\n",
       "      <td>8:00 AM</td>\n",
       "      <td>3:00 PM</td>\n",
       "      <td>1329.0</td>\n",
       "      <td>0.163</td>\n",
       "      <td>0.077</td>\n",
       "      <td>0.567</td>\n",
       "      <td>0.180</td>\n",
       "      <td>0.816</td>\n",
       "    </tr>\n",
       "    <tr>\n",
       "      <th>246</th>\n",
       "      <td>30Q286</td>\n",
       "      <td>Queens</td>\n",
       "      <td>Q739</td>\n",
       "      <td>Astoria</td>\n",
       "      <td>11102</td>\n",
       "      <td>40.77125</td>\n",
       "      <td>-73.92460</td>\n",
       "      <td>8:00 AM</td>\n",
       "      <td>3:20 PM</td>\n",
       "      <td>572.0</td>\n",
       "      <td>0.196</td>\n",
       "      <td>0.047</td>\n",
       "      <td>0.380</td>\n",
       "      <td>0.377</td>\n",
       "      <td>1.000</td>\n",
       "    </tr>\n",
       "  </tbody>\n",
       "</table>\n",
       "<p>296 rows × 15 columns</p>\n",
       "</div>"
      ],
      "text/plain": [
       "    School ID    Borough Building Code          City  Zip Code  Latitude  \\\n",
       "80     05M692  Manhattan          M812     Manhattan     10031  40.82112   \n",
       "40     02M615  Manhattan          M615     Manhattan     10013  40.72435   \n",
       "164    10X437      Bronx          X435         Bronx     10458  40.86001   \n",
       "298    22K405   Brooklyn          K405      Brooklyn     11210  40.63334   \n",
       "312    21K348   Brooklyn          K400      Brooklyn     11214  40.59359   \n",
       "..        ...        ...           ...           ...       ...       ...   \n",
       "287    19K409   Brooklyn          K819      Brooklyn     11207  40.66064   \n",
       "83     06M346  Manhattan          M814     Manhattan     10032  40.83356   \n",
       "428    27Q260     Queens          Q465  Far Rockaway     11691  40.60199   \n",
       "328    20K485   Brooklyn          K485      Brooklyn     11220  40.63725   \n",
       "246    30Q286     Queens          Q739       Astoria     11102  40.77125   \n",
       "\n",
       "     Longitude Start Time End Time  Student Enrollment  Percent White  \\\n",
       "80   -73.94885    8:00 AM  3:35 PM               470.0          0.268   \n",
       "40   -74.00476    8:30 AM  4:00 PM               439.0          0.032   \n",
       "164  -73.88823    8:00 AM  3:45 PM               401.0          0.025   \n",
       "298  -73.95292    8:45 AM  3:30 PM              3787.0          0.233   \n",
       "312  -73.98473    7:45 AM  3:45 PM               290.0          0.055   \n",
       "..         ...        ...      ...                 ...            ...   \n",
       "287  -73.88634    8:00 AM  3:00 PM               479.0          0.004   \n",
       "83   -73.94180    8:15 AM  3:00 PM               629.0          0.027   \n",
       "428  -73.76283    7:45 AM  2:05 PM               409.0          0.007   \n",
       "328  -74.02382    8:00 AM  3:00 PM              1329.0          0.163   \n",
       "246  -73.92460    8:00 AM  3:20 PM               572.0          0.196   \n",
       "\n",
       "     Percent Black  Percent Hispanic  Percent Asian  Percent Tested  \n",
       "80           0.096             0.217          0.385           0.926  \n",
       "40           0.289             0.574          0.082           0.804  \n",
       "164          0.309             0.651          0.010           0.562  \n",
       "298          0.298             0.125          0.337           0.857  \n",
       "312          0.724             0.169          0.038           0.562  \n",
       "..             ...               ...            ...             ...  \n",
       "287          0.676             0.295          0.022           0.667  \n",
       "83           0.049             0.918          0.000           0.553  \n",
       "428          0.597             0.379          0.015           0.301  \n",
       "328          0.077             0.567          0.180           0.816  \n",
       "246          0.047             0.380          0.377           1.000  \n",
       "\n",
       "[296 rows x 15 columns]"
      ]
     },
     "execution_count": 41,
     "metadata": {},
     "output_type": "execute_result"
    }
   ],
   "source": [
    "data"
   ]
  },
  {
   "cell_type": "markdown",
   "id": "f710a2d2",
   "metadata": {},
   "source": [
    "## Data Cleaning"
   ]
  },
  {
   "cell_type": "code",
   "execution_count": 42,
   "id": "e50ba620",
   "metadata": {},
   "outputs": [
    {
     "data": {
      "text/plain": [
       "School ID             0\n",
       "Borough               0\n",
       "Building Code         0\n",
       "City                  0\n",
       "Zip Code              0\n",
       "Latitude              0\n",
       "Longitude             0\n",
       "Start Time            0\n",
       "End Time              0\n",
       "Student Enrollment    0\n",
       "Percent White         0\n",
       "Percent Black         0\n",
       "Percent Hispanic      0\n",
       "Percent Asian         0\n",
       "Percent Tested        0\n",
       "dtype: int64"
      ]
     },
     "execution_count": 42,
     "metadata": {},
     "output_type": "execute_result"
    }
   ],
   "source": [
    "data.isna().sum()"
   ]
  },
  {
   "cell_type": "markdown",
   "id": "59dd2897",
   "metadata": {},
   "source": [
    "## Text and Categorical Attributes"
   ]
  },
  {
   "cell_type": "code",
   "execution_count": 43,
   "id": "a039c03c",
   "metadata": {},
   "outputs": [
    {
     "data": {
      "text/html": [
       "<div>\n",
       "<style scoped>\n",
       "    .dataframe tbody tr th:only-of-type {\n",
       "        vertical-align: middle;\n",
       "    }\n",
       "\n",
       "    .dataframe tbody tr th {\n",
       "        vertical-align: top;\n",
       "    }\n",
       "\n",
       "    .dataframe thead th {\n",
       "        text-align: right;\n",
       "    }\n",
       "</style>\n",
       "<table border=\"1\" class=\"dataframe\">\n",
       "  <thead>\n",
       "    <tr style=\"text-align: right;\">\n",
       "      <th></th>\n",
       "      <th>Borough</th>\n",
       "    </tr>\n",
       "  </thead>\n",
       "  <tbody>\n",
       "    <tr>\n",
       "      <th>80</th>\n",
       "      <td>Manhattan</td>\n",
       "    </tr>\n",
       "    <tr>\n",
       "      <th>40</th>\n",
       "      <td>Manhattan</td>\n",
       "    </tr>\n",
       "    <tr>\n",
       "      <th>164</th>\n",
       "      <td>Bronx</td>\n",
       "    </tr>\n",
       "    <tr>\n",
       "      <th>298</th>\n",
       "      <td>Brooklyn</td>\n",
       "    </tr>\n",
       "    <tr>\n",
       "      <th>312</th>\n",
       "      <td>Brooklyn</td>\n",
       "    </tr>\n",
       "    <tr>\n",
       "      <th>244</th>\n",
       "      <td>Queens</td>\n",
       "    </tr>\n",
       "    <tr>\n",
       "      <th>114</th>\n",
       "      <td>Staten Island</td>\n",
       "    </tr>\n",
       "    <tr>\n",
       "      <th>52</th>\n",
       "      <td>Manhattan</td>\n",
       "    </tr>\n",
       "    <tr>\n",
       "      <th>431</th>\n",
       "      <td>Queens</td>\n",
       "    </tr>\n",
       "    <tr>\n",
       "      <th>136</th>\n",
       "      <td>Bronx</td>\n",
       "    </tr>\n",
       "  </tbody>\n",
       "</table>\n",
       "</div>"
      ],
      "text/plain": [
       "           Borough\n",
       "80       Manhattan\n",
       "40       Manhattan\n",
       "164          Bronx\n",
       "298       Brooklyn\n",
       "312       Brooklyn\n",
       "244         Queens\n",
       "114  Staten Island\n",
       "52       Manhattan\n",
       "431         Queens\n",
       "136          Bronx"
      ]
     },
     "execution_count": 43,
     "metadata": {},
     "output_type": "execute_result"
    }
   ],
   "source": [
    "data_cat = data[[\"Borough\"]]\n",
    "data_cat.head(10)"
   ]
  },
  {
   "cell_type": "code",
   "execution_count": 44,
   "id": "1fde080d",
   "metadata": {},
   "outputs": [
    {
     "data": {
      "text/plain": [
       "array([[2.],\n",
       "       [2.],\n",
       "       [0.],\n",
       "       [1.],\n",
       "       [1.],\n",
       "       [3.],\n",
       "       [4.],\n",
       "       [2.],\n",
       "       [3.],\n",
       "       [0.]])"
      ]
     },
     "execution_count": 44,
     "metadata": {},
     "output_type": "execute_result"
    }
   ],
   "source": [
    "from sklearn.preprocessing import OrdinalEncoder\n",
    "\n",
    "ordinal_encoder = OrdinalEncoder()\n",
    "data_cat_encoded = ordinal_encoder.fit_transform(data_cat)\n",
    "data_cat_encoded[:10]"
   ]
  },
  {
   "cell_type": "code",
   "execution_count": 45,
   "id": "3f09a332",
   "metadata": {},
   "outputs": [
    {
     "data": {
      "text/plain": [
       "[array(['Bronx', 'Brooklyn', 'Manhattan', 'Queens', 'Staten Island'],\n",
       "       dtype=object)]"
      ]
     },
     "execution_count": 45,
     "metadata": {},
     "output_type": "execute_result"
    }
   ],
   "source": [
    "ordinal_encoder.categories_"
   ]
  },
  {
   "cell_type": "code",
   "execution_count": 46,
   "id": "0d1a0632",
   "metadata": {},
   "outputs": [
    {
     "data": {
      "text/plain": [
       "<296x5 sparse matrix of type '<class 'numpy.float64'>'\n",
       "\twith 296 stored elements in Compressed Sparse Row format>"
      ]
     },
     "execution_count": 46,
     "metadata": {},
     "output_type": "execute_result"
    }
   ],
   "source": [
    "from sklearn.preprocessing import OneHotEncoder\n",
    "\n",
    "cat_encoder = OneHotEncoder()\n",
    "data_cat_1hot = cat_encoder.fit_transform(data_cat)\n",
    "data_cat_1hot"
   ]
  },
  {
   "cell_type": "code",
   "execution_count": 47,
   "id": "a2c0715b",
   "metadata": {},
   "outputs": [
    {
     "data": {
      "text/plain": [
       "array([[0., 0., 1., 0., 0.],\n",
       "       [0., 0., 1., 0., 0.],\n",
       "       [1., 0., 0., 0., 0.],\n",
       "       ...,\n",
       "       [0., 0., 0., 1., 0.],\n",
       "       [0., 1., 0., 0., 0.],\n",
       "       [0., 0., 0., 1., 0.]])"
      ]
     },
     "execution_count": 47,
     "metadata": {},
     "output_type": "execute_result"
    }
   ],
   "source": [
    "data_cat_1hot.toarray()"
   ]
  },
  {
   "cell_type": "code",
   "execution_count": 48,
   "id": "d4810a48",
   "metadata": {},
   "outputs": [
    {
     "data": {
      "text/plain": [
       "array([[0., 0., 1., 0., 0.],\n",
       "       [0., 0., 1., 0., 0.],\n",
       "       [1., 0., 0., 0., 0.],\n",
       "       ...,\n",
       "       [0., 0., 0., 1., 0.],\n",
       "       [0., 1., 0., 0., 0.],\n",
       "       [0., 0., 0., 1., 0.]])"
      ]
     },
     "execution_count": 48,
     "metadata": {},
     "output_type": "execute_result"
    }
   ],
   "source": [
    "cat_encoder = OneHotEncoder(sparse=False)\n",
    "data_cat_1hot = cat_encoder.fit_transform(data_cat)\n",
    "data_cat_1hot"
   ]
  },
  {
   "cell_type": "code",
   "execution_count": 49,
   "id": "85fc5649",
   "metadata": {},
   "outputs": [
    {
     "data": {
      "text/plain": [
       "[array(['Bronx', 'Brooklyn', 'Manhattan', 'Queens', 'Staten Island'],\n",
       "       dtype=object)]"
      ]
     },
     "execution_count": 49,
     "metadata": {},
     "output_type": "execute_result"
    }
   ],
   "source": [
    "cat_encoder.categories_"
   ]
  },
  {
   "cell_type": "code",
   "execution_count": 50,
   "id": "edf8cb3c",
   "metadata": {},
   "outputs": [
    {
     "data": {
      "text/html": [
       "<div>\n",
       "<style scoped>\n",
       "    .dataframe tbody tr th:only-of-type {\n",
       "        vertical-align: middle;\n",
       "    }\n",
       "\n",
       "    .dataframe tbody tr th {\n",
       "        vertical-align: top;\n",
       "    }\n",
       "\n",
       "    .dataframe thead th {\n",
       "        text-align: right;\n",
       "    }\n",
       "</style>\n",
       "<table border=\"1\" class=\"dataframe\">\n",
       "  <thead>\n",
       "    <tr style=\"text-align: right;\">\n",
       "      <th></th>\n",
       "      <th>Start Time</th>\n",
       "    </tr>\n",
       "  </thead>\n",
       "  <tbody>\n",
       "    <tr>\n",
       "      <th>80</th>\n",
       "      <td>8:00 AM</td>\n",
       "    </tr>\n",
       "    <tr>\n",
       "      <th>40</th>\n",
       "      <td>8:30 AM</td>\n",
       "    </tr>\n",
       "    <tr>\n",
       "      <th>164</th>\n",
       "      <td>8:00 AM</td>\n",
       "    </tr>\n",
       "    <tr>\n",
       "      <th>298</th>\n",
       "      <td>8:45 AM</td>\n",
       "    </tr>\n",
       "    <tr>\n",
       "      <th>312</th>\n",
       "      <td>7:45 AM</td>\n",
       "    </tr>\n",
       "    <tr>\n",
       "      <th>...</th>\n",
       "      <td>...</td>\n",
       "    </tr>\n",
       "    <tr>\n",
       "      <th>287</th>\n",
       "      <td>8:00 AM</td>\n",
       "    </tr>\n",
       "    <tr>\n",
       "      <th>83</th>\n",
       "      <td>8:15 AM</td>\n",
       "    </tr>\n",
       "    <tr>\n",
       "      <th>428</th>\n",
       "      <td>7:45 AM</td>\n",
       "    </tr>\n",
       "    <tr>\n",
       "      <th>328</th>\n",
       "      <td>8:00 AM</td>\n",
       "    </tr>\n",
       "    <tr>\n",
       "      <th>246</th>\n",
       "      <td>8:00 AM</td>\n",
       "    </tr>\n",
       "  </tbody>\n",
       "</table>\n",
       "<p>296 rows × 1 columns</p>\n",
       "</div>"
      ],
      "text/plain": [
       "    Start Time\n",
       "80     8:00 AM\n",
       "40     8:30 AM\n",
       "164    8:00 AM\n",
       "298    8:45 AM\n",
       "312    7:45 AM\n",
       "..         ...\n",
       "287    8:00 AM\n",
       "83     8:15 AM\n",
       "428    7:45 AM\n",
       "328    8:00 AM\n",
       "246    8:00 AM\n",
       "\n",
       "[296 rows x 1 columns]"
      ]
     },
     "execution_count": 50,
     "metadata": {},
     "output_type": "execute_result"
    }
   ],
   "source": [
    "data_cat = data[['Start Time']]\n",
    "data_cat"
   ]
  },
  {
   "cell_type": "code",
   "execution_count": 51,
   "id": "515018ff",
   "metadata": {},
   "outputs": [
    {
     "name": "stdout",
     "output_type": "stream",
     "text": [
      "[array(['7:15 AM', '7:25 AM', '7:30 AM', '7:35 AM', '7:40 AM', '7:45 AM',\n",
      "       '7:50 AM', '8:00 AM', '8:05 AM', '8:07 AM', '8:10 AM', '8:13 AM',\n",
      "       '8:15 AM', '8:16 AM', '8:20 AM', '8:25 AM', '8:29 AM', '8:30 AM',\n",
      "       '8:32 AM', '8:35 AM', '8:38 AM', '8:40 AM', '8:45 AM', '8:50 AM',\n",
      "       '8:51 AM', '9:00 AM', '9:05 AM', '9:07 AM', '9:15 AM', '9:30 AM'],\n",
      "      dtype=object)]\n",
      "[[0. 0. 0. ... 0. 0. 0.]\n",
      " [0. 0. 0. ... 0. 0. 0.]\n",
      " [0. 0. 0. ... 0. 0. 0.]\n",
      " ...\n",
      " [0. 0. 0. ... 0. 0. 0.]\n",
      " [0. 0. 0. ... 0. 0. 0.]\n",
      " [0. 0. 0. ... 0. 0. 0.]]\n",
      "[array(['7:15 AM', '7:25 AM', '7:30 AM', '7:35 AM', '7:40 AM', '7:45 AM',\n",
      "       '7:50 AM', '8:00 AM', '8:05 AM', '8:07 AM', '8:10 AM', '8:13 AM',\n",
      "       '8:15 AM', '8:16 AM', '8:20 AM', '8:25 AM', '8:29 AM', '8:30 AM',\n",
      "       '8:32 AM', '8:35 AM', '8:38 AM', '8:40 AM', '8:45 AM', '8:50 AM',\n",
      "       '8:51 AM', '9:00 AM', '9:05 AM', '9:07 AM', '9:15 AM', '9:30 AM'],\n",
      "      dtype=object)]\n"
     ]
    }
   ],
   "source": [
    "ordinal_encoder = OrdinalEncoder()\n",
    "data_cat_encoded = ordinal_encoder.fit_transform(data_cat)\n",
    "data_cat_encoded[:10]\n",
    "\n",
    "print(ordinal_encoder.categories_)\n",
    "\n",
    "cat_encoder = OneHotEncoder()\n",
    "data_cat_1hot = cat_encoder.fit_transform(data_cat)\n",
    "data_cat_1hot\n",
    "\n",
    "print(data_cat_1hot.toarray())\n",
    "\n",
    "cat_encoder = OneHotEncoder(sparse=False)\n",
    "data_cat_1hot = cat_encoder.fit_transform(data_cat)\n",
    "data_cat_1hot\n",
    "\n",
    "print(cat_encoder.categories_)"
   ]
  },
  {
   "cell_type": "markdown",
   "id": "499198c6",
   "metadata": {},
   "source": [
    "## Transformation Pipeline"
   ]
  },
  {
   "cell_type": "code",
   "execution_count": 52,
   "id": "2fe735e4",
   "metadata": {},
   "outputs": [
    {
     "data": {
      "text/html": [
       "<div>\n",
       "<style scoped>\n",
       "    .dataframe tbody tr th:only-of-type {\n",
       "        vertical-align: middle;\n",
       "    }\n",
       "\n",
       "    .dataframe tbody tr th {\n",
       "        vertical-align: top;\n",
       "    }\n",
       "\n",
       "    .dataframe thead th {\n",
       "        text-align: right;\n",
       "    }\n",
       "</style>\n",
       "<table border=\"1\" class=\"dataframe\">\n",
       "  <thead>\n",
       "    <tr style=\"text-align: right;\">\n",
       "      <th></th>\n",
       "      <th>Latitude</th>\n",
       "      <th>Longitude</th>\n",
       "      <th>Student Enrollment</th>\n",
       "      <th>Percent White</th>\n",
       "      <th>Percent Black</th>\n",
       "      <th>Percent Hispanic</th>\n",
       "      <th>Percent Asian</th>\n",
       "      <th>Percent Tested</th>\n",
       "    </tr>\n",
       "  </thead>\n",
       "  <tbody>\n",
       "    <tr>\n",
       "      <th>80</th>\n",
       "      <td>40.82112</td>\n",
       "      <td>-73.94885</td>\n",
       "      <td>470.0</td>\n",
       "      <td>0.268</td>\n",
       "      <td>0.096</td>\n",
       "      <td>0.217</td>\n",
       "      <td>0.385</td>\n",
       "      <td>0.926</td>\n",
       "    </tr>\n",
       "    <tr>\n",
       "      <th>40</th>\n",
       "      <td>40.72435</td>\n",
       "      <td>-74.00476</td>\n",
       "      <td>439.0</td>\n",
       "      <td>0.032</td>\n",
       "      <td>0.289</td>\n",
       "      <td>0.574</td>\n",
       "      <td>0.082</td>\n",
       "      <td>0.804</td>\n",
       "    </tr>\n",
       "    <tr>\n",
       "      <th>164</th>\n",
       "      <td>40.86001</td>\n",
       "      <td>-73.88823</td>\n",
       "      <td>401.0</td>\n",
       "      <td>0.025</td>\n",
       "      <td>0.309</td>\n",
       "      <td>0.651</td>\n",
       "      <td>0.010</td>\n",
       "      <td>0.562</td>\n",
       "    </tr>\n",
       "    <tr>\n",
       "      <th>298</th>\n",
       "      <td>40.63334</td>\n",
       "      <td>-73.95292</td>\n",
       "      <td>3787.0</td>\n",
       "      <td>0.233</td>\n",
       "      <td>0.298</td>\n",
       "      <td>0.125</td>\n",
       "      <td>0.337</td>\n",
       "      <td>0.857</td>\n",
       "    </tr>\n",
       "    <tr>\n",
       "      <th>312</th>\n",
       "      <td>40.59359</td>\n",
       "      <td>-73.98473</td>\n",
       "      <td>290.0</td>\n",
       "      <td>0.055</td>\n",
       "      <td>0.724</td>\n",
       "      <td>0.169</td>\n",
       "      <td>0.038</td>\n",
       "      <td>0.562</td>\n",
       "    </tr>\n",
       "    <tr>\n",
       "      <th>...</th>\n",
       "      <td>...</td>\n",
       "      <td>...</td>\n",
       "      <td>...</td>\n",
       "      <td>...</td>\n",
       "      <td>...</td>\n",
       "      <td>...</td>\n",
       "      <td>...</td>\n",
       "      <td>...</td>\n",
       "    </tr>\n",
       "    <tr>\n",
       "      <th>287</th>\n",
       "      <td>40.66064</td>\n",
       "      <td>-73.88634</td>\n",
       "      <td>479.0</td>\n",
       "      <td>0.004</td>\n",
       "      <td>0.676</td>\n",
       "      <td>0.295</td>\n",
       "      <td>0.022</td>\n",
       "      <td>0.667</td>\n",
       "    </tr>\n",
       "    <tr>\n",
       "      <th>83</th>\n",
       "      <td>40.83356</td>\n",
       "      <td>-73.94180</td>\n",
       "      <td>629.0</td>\n",
       "      <td>0.027</td>\n",
       "      <td>0.049</td>\n",
       "      <td>0.918</td>\n",
       "      <td>0.000</td>\n",
       "      <td>0.553</td>\n",
       "    </tr>\n",
       "    <tr>\n",
       "      <th>428</th>\n",
       "      <td>40.60199</td>\n",
       "      <td>-73.76283</td>\n",
       "      <td>409.0</td>\n",
       "      <td>0.007</td>\n",
       "      <td>0.597</td>\n",
       "      <td>0.379</td>\n",
       "      <td>0.015</td>\n",
       "      <td>0.301</td>\n",
       "    </tr>\n",
       "    <tr>\n",
       "      <th>328</th>\n",
       "      <td>40.63725</td>\n",
       "      <td>-74.02382</td>\n",
       "      <td>1329.0</td>\n",
       "      <td>0.163</td>\n",
       "      <td>0.077</td>\n",
       "      <td>0.567</td>\n",
       "      <td>0.180</td>\n",
       "      <td>0.816</td>\n",
       "    </tr>\n",
       "    <tr>\n",
       "      <th>246</th>\n",
       "      <td>40.77125</td>\n",
       "      <td>-73.92460</td>\n",
       "      <td>572.0</td>\n",
       "      <td>0.196</td>\n",
       "      <td>0.047</td>\n",
       "      <td>0.380</td>\n",
       "      <td>0.377</td>\n",
       "      <td>1.000</td>\n",
       "    </tr>\n",
       "  </tbody>\n",
       "</table>\n",
       "<p>296 rows × 8 columns</p>\n",
       "</div>"
      ],
      "text/plain": [
       "     Latitude  Longitude  Student Enrollment  Percent White  Percent Black  \\\n",
       "80   40.82112  -73.94885               470.0          0.268          0.096   \n",
       "40   40.72435  -74.00476               439.0          0.032          0.289   \n",
       "164  40.86001  -73.88823               401.0          0.025          0.309   \n",
       "298  40.63334  -73.95292              3787.0          0.233          0.298   \n",
       "312  40.59359  -73.98473               290.0          0.055          0.724   \n",
       "..        ...        ...                 ...            ...            ...   \n",
       "287  40.66064  -73.88634               479.0          0.004          0.676   \n",
       "83   40.83356  -73.94180               629.0          0.027          0.049   \n",
       "428  40.60199  -73.76283               409.0          0.007          0.597   \n",
       "328  40.63725  -74.02382              1329.0          0.163          0.077   \n",
       "246  40.77125  -73.92460               572.0          0.196          0.047   \n",
       "\n",
       "     Percent Hispanic  Percent Asian  Percent Tested  \n",
       "80              0.217          0.385           0.926  \n",
       "40              0.574          0.082           0.804  \n",
       "164             0.651          0.010           0.562  \n",
       "298             0.125          0.337           0.857  \n",
       "312             0.169          0.038           0.562  \n",
       "..                ...            ...             ...  \n",
       "287             0.295          0.022           0.667  \n",
       "83              0.918          0.000           0.553  \n",
       "428             0.379          0.015           0.301  \n",
       "328             0.567          0.180           0.816  \n",
       "246             0.380          0.377           1.000  \n",
       "\n",
       "[296 rows x 8 columns]"
      ]
     },
     "execution_count": 52,
     "metadata": {},
     "output_type": "execute_result"
    }
   ],
   "source": [
    "from sklearn.pipeline import Pipeline\n",
    "from sklearn.preprocessing import StandardScaler\n",
    "import copy\n",
    "\n",
    "data_pipeline = data.copy()\n",
    "data_pipeline = data_pipeline[[\"Latitude\", \"Longitude\", \"Student Enrollment\", \"Percent White\", \"Percent Black\", \"Percent Hispanic\", \"Percent Asian\", \"Percent Tested\"]]\n",
    "data_pipeline"
   ]
  },
  {
   "cell_type": "code",
   "execution_count": 53,
   "id": "664254e4",
   "metadata": {},
   "outputs": [],
   "source": [
    "num_pipeline = Pipeline([('std_scaler', StandardScaler()),])\n",
    "data_pipeline_tr = num_pipeline.fit_transform(data_pipeline)"
   ]
  },
  {
   "cell_type": "code",
   "execution_count": 54,
   "id": "61462bf7",
   "metadata": {},
   "outputs": [
    {
     "data": {
      "text/plain": [
       "array([[ 0.95422052, -0.30372491, -0.37016447, ..., -0.9305874 ,\n",
       "         2.00588579,  1.45375029],\n",
       "       [-0.22681882, -1.09347774, -0.40906178, ...,  0.52857055,\n",
       "        -0.14999434,  0.81284505],\n",
       "       [ 1.42885749,  0.55255869, -0.45674234, ...,  0.84329089,\n",
       "        -0.66228268, -0.4584588 ],\n",
       "       ...,\n",
       "       [-1.72017392,  2.32388768, -0.44670433, ..., -0.2684485 ,\n",
       "        -0.6267071 , -1.82957577],\n",
       "       [-1.28983965, -1.36270844,  0.70766725, ...,  0.49995961,\n",
       "         0.54728703,  0.87588491],\n",
       "       [ 0.34557702,  0.03881678, -0.2421798 , ..., -0.26436122,\n",
       "         1.94896486,  1.8424961 ]])"
      ]
     },
     "execution_count": 54,
     "metadata": {},
     "output_type": "execute_result"
    }
   ],
   "source": [
    "data_pipeline_tr"
   ]
  },
  {
   "cell_type": "code",
   "execution_count": 55,
   "id": "029a37f1",
   "metadata": {},
   "outputs": [
    {
     "data": {
      "text/html": [
       "<div>\n",
       "<style scoped>\n",
       "    .dataframe tbody tr th:only-of-type {\n",
       "        vertical-align: middle;\n",
       "    }\n",
       "\n",
       "    .dataframe tbody tr th {\n",
       "        vertical-align: top;\n",
       "    }\n",
       "\n",
       "    .dataframe thead th {\n",
       "        text-align: right;\n",
       "    }\n",
       "</style>\n",
       "<table border=\"1\" class=\"dataframe\">\n",
       "  <thead>\n",
       "    <tr style=\"text-align: right;\">\n",
       "      <th></th>\n",
       "      <th>School ID</th>\n",
       "      <th>Borough</th>\n",
       "      <th>Building Code</th>\n",
       "      <th>City</th>\n",
       "      <th>Zip Code</th>\n",
       "      <th>Latitude</th>\n",
       "      <th>Longitude</th>\n",
       "      <th>Start Time</th>\n",
       "      <th>End Time</th>\n",
       "      <th>Student Enrollment</th>\n",
       "      <th>Percent White</th>\n",
       "      <th>Percent Black</th>\n",
       "      <th>Percent Hispanic</th>\n",
       "      <th>Percent Asian</th>\n",
       "      <th>Percent Tested</th>\n",
       "    </tr>\n",
       "  </thead>\n",
       "  <tbody>\n",
       "    <tr>\n",
       "      <th>80</th>\n",
       "      <td>05M692</td>\n",
       "      <td>Manhattan</td>\n",
       "      <td>M812</td>\n",
       "      <td>Manhattan</td>\n",
       "      <td>10031</td>\n",
       "      <td>40.82112</td>\n",
       "      <td>-73.94885</td>\n",
       "      <td>8:00 AM</td>\n",
       "      <td>3:35 PM</td>\n",
       "      <td>470.0</td>\n",
       "      <td>0.268</td>\n",
       "      <td>0.096</td>\n",
       "      <td>0.217</td>\n",
       "      <td>0.385</td>\n",
       "      <td>0.926</td>\n",
       "    </tr>\n",
       "    <tr>\n",
       "      <th>40</th>\n",
       "      <td>02M615</td>\n",
       "      <td>Manhattan</td>\n",
       "      <td>M615</td>\n",
       "      <td>Manhattan</td>\n",
       "      <td>10013</td>\n",
       "      <td>40.72435</td>\n",
       "      <td>-74.00476</td>\n",
       "      <td>8:30 AM</td>\n",
       "      <td>4:00 PM</td>\n",
       "      <td>439.0</td>\n",
       "      <td>0.032</td>\n",
       "      <td>0.289</td>\n",
       "      <td>0.574</td>\n",
       "      <td>0.082</td>\n",
       "      <td>0.804</td>\n",
       "    </tr>\n",
       "    <tr>\n",
       "      <th>164</th>\n",
       "      <td>10X437</td>\n",
       "      <td>Bronx</td>\n",
       "      <td>X435</td>\n",
       "      <td>Bronx</td>\n",
       "      <td>10458</td>\n",
       "      <td>40.86001</td>\n",
       "      <td>-73.88823</td>\n",
       "      <td>8:00 AM</td>\n",
       "      <td>3:45 PM</td>\n",
       "      <td>401.0</td>\n",
       "      <td>0.025</td>\n",
       "      <td>0.309</td>\n",
       "      <td>0.651</td>\n",
       "      <td>0.010</td>\n",
       "      <td>0.562</td>\n",
       "    </tr>\n",
       "    <tr>\n",
       "      <th>298</th>\n",
       "      <td>22K405</td>\n",
       "      <td>Brooklyn</td>\n",
       "      <td>K405</td>\n",
       "      <td>Brooklyn</td>\n",
       "      <td>11210</td>\n",
       "      <td>40.63334</td>\n",
       "      <td>-73.95292</td>\n",
       "      <td>8:45 AM</td>\n",
       "      <td>3:30 PM</td>\n",
       "      <td>3787.0</td>\n",
       "      <td>0.233</td>\n",
       "      <td>0.298</td>\n",
       "      <td>0.125</td>\n",
       "      <td>0.337</td>\n",
       "      <td>0.857</td>\n",
       "    </tr>\n",
       "    <tr>\n",
       "      <th>312</th>\n",
       "      <td>21K348</td>\n",
       "      <td>Brooklyn</td>\n",
       "      <td>K400</td>\n",
       "      <td>Brooklyn</td>\n",
       "      <td>11214</td>\n",
       "      <td>40.59359</td>\n",
       "      <td>-73.98473</td>\n",
       "      <td>7:45 AM</td>\n",
       "      <td>3:45 PM</td>\n",
       "      <td>290.0</td>\n",
       "      <td>0.055</td>\n",
       "      <td>0.724</td>\n",
       "      <td>0.169</td>\n",
       "      <td>0.038</td>\n",
       "      <td>0.562</td>\n",
       "    </tr>\n",
       "  </tbody>\n",
       "</table>\n",
       "</div>"
      ],
      "text/plain": [
       "    School ID    Borough Building Code       City  Zip Code  Latitude  \\\n",
       "80     05M692  Manhattan          M812  Manhattan     10031  40.82112   \n",
       "40     02M615  Manhattan          M615  Manhattan     10013  40.72435   \n",
       "164    10X437      Bronx          X435      Bronx     10458  40.86001   \n",
       "298    22K405   Brooklyn          K405   Brooklyn     11210  40.63334   \n",
       "312    21K348   Brooklyn          K400   Brooklyn     11214  40.59359   \n",
       "\n",
       "     Longitude Start Time End Time  Student Enrollment  Percent White  \\\n",
       "80   -73.94885    8:00 AM  3:35 PM               470.0          0.268   \n",
       "40   -74.00476    8:30 AM  4:00 PM               439.0          0.032   \n",
       "164  -73.88823    8:00 AM  3:45 PM               401.0          0.025   \n",
       "298  -73.95292    8:45 AM  3:30 PM              3787.0          0.233   \n",
       "312  -73.98473    7:45 AM  3:45 PM               290.0          0.055   \n",
       "\n",
       "     Percent Black  Percent Hispanic  Percent Asian  Percent Tested  \n",
       "80           0.096             0.217          0.385           0.926  \n",
       "40           0.289             0.574          0.082           0.804  \n",
       "164          0.309             0.651          0.010           0.562  \n",
       "298          0.298             0.125          0.337           0.857  \n",
       "312          0.724             0.169          0.038           0.562  "
      ]
     },
     "execution_count": 55,
     "metadata": {},
     "output_type": "execute_result"
    }
   ],
   "source": [
    "data.head()"
   ]
  },
  {
   "cell_type": "code",
   "execution_count": 56,
   "id": "14d1f9a2",
   "metadata": {},
   "outputs": [],
   "source": [
    "from sklearn.compose import ColumnTransformer\n",
    "\n",
    "num_attribs = [\"Latitude\", \"Longitude\", \"Student Enrollment\", \"Percent White\", \"Percent Black\", \"Percent Hispanic\", \"Percent Asian\", \"Percent Tested\"]\n",
    "cat_attribs = [\"Borough\", \"Start Time\"]\n",
    "\n",
    "full_pipeline = ColumnTransformer([\n",
    "        (\"num\", num_pipeline, num_attribs),\n",
    "        (\"cat\", OneHotEncoder(), cat_attribs),\n",
    "    ])\n",
    "\n",
    "data_prepared = full_pipeline.fit_transform(data)"
   ]
  },
  {
   "cell_type": "code",
   "execution_count": 57,
   "id": "dac56863",
   "metadata": {},
   "outputs": [
    {
     "data": {
      "text/plain": [
       "<296x43 sparse matrix of type '<class 'numpy.float64'>'\n",
       "\twith 2960 stored elements in Compressed Sparse Row format>"
      ]
     },
     "execution_count": 57,
     "metadata": {},
     "output_type": "execute_result"
    }
   ],
   "source": [
    "data_prepared"
   ]
  },
  {
   "cell_type": "code",
   "execution_count": 58,
   "id": "d7af3573",
   "metadata": {},
   "outputs": [
    {
     "data": {
      "text/plain": [
       "(296, 43)"
      ]
     },
     "execution_count": 58,
     "metadata": {},
     "output_type": "execute_result"
    }
   ],
   "source": [
    "data_prepared.shape"
   ]
  },
  {
   "cell_type": "code",
   "execution_count": 59,
   "id": "153f2354",
   "metadata": {},
   "outputs": [],
   "source": [
    "from sklearn.base import BaseEstimator, TransformerMixin\n",
    "\n",
    "# Create a class to select numerical or categorical columns \n",
    "class OldDataFrameSelector(BaseEstimator, TransformerMixin):\n",
    "    def __init__(self, attribute_names):\n",
    "        self.attribute_names = attribute_names\n",
    "    def fit(self, X, y=None):\n",
    "        return self\n",
    "    def transform(self, X):\n",
    "        return X[self.attribute_names].values"
   ]
  },
  {
   "cell_type": "code",
   "execution_count": 60,
   "id": "716282a0",
   "metadata": {},
   "outputs": [],
   "source": [
    "num_attribs = [\"Latitude\", \"Longitude\", \"Student Enrollment\", \"Percent White\", \"Percent Black\", \"Percent Hispanic\", \"Percent Asian\", \"Percent Tested\"]\n",
    "cat_attribs = [\"Borough\", \"Start Time\"]\n",
    "\n",
    "old_num_pipeline = Pipeline([\n",
    "        ('selector', OldDataFrameSelector(num_attribs)),\n",
    "        ('std_scaler', StandardScaler()),\n",
    "    ])\n",
    "\n",
    "old_cat_pipeline = Pipeline([\n",
    "        ('selector', OldDataFrameSelector(cat_attribs)),\n",
    "        ('cat_encoder', OneHotEncoder(sparse=False)),\n",
    "    ])"
   ]
  },
  {
   "cell_type": "code",
   "execution_count": 61,
   "id": "de52623d",
   "metadata": {},
   "outputs": [],
   "source": [
    "from sklearn.pipeline import FeatureUnion\n",
    "\n",
    "old_full_pipeline = FeatureUnion(transformer_list=[\n",
    "        (\"num_pipeline\", old_num_pipeline),\n",
    "        (\"cat_pipeline\", old_cat_pipeline),\n",
    "    ])"
   ]
  },
  {
   "cell_type": "code",
   "execution_count": 62,
   "id": "4f76b058",
   "metadata": {},
   "outputs": [
    {
     "data": {
      "text/plain": [
       "array([[ 0.95422052, -0.30372491, -0.37016447, ...,  0.        ,\n",
       "         0.        ,  0.        ],\n",
       "       [-0.22681882, -1.09347774, -0.40906178, ...,  0.        ,\n",
       "         0.        ,  0.        ],\n",
       "       [ 1.42885749,  0.55255869, -0.45674234, ...,  0.        ,\n",
       "         0.        ,  0.        ],\n",
       "       ...,\n",
       "       [-1.72017392,  2.32388768, -0.44670433, ...,  0.        ,\n",
       "         0.        ,  0.        ],\n",
       "       [-1.28983965, -1.36270844,  0.70766725, ...,  0.        ,\n",
       "         0.        ,  0.        ],\n",
       "       [ 0.34557702,  0.03881678, -0.2421798 , ...,  0.        ,\n",
       "         0.        ,  0.        ]])"
      ]
     },
     "execution_count": 62,
     "metadata": {},
     "output_type": "execute_result"
    }
   ],
   "source": [
    "old_data_prepared = old_full_pipeline.fit_transform(data)\n",
    "old_data_prepared"
   ]
  },
  {
   "cell_type": "code",
   "execution_count": 63,
   "id": "6c8f0572",
   "metadata": {},
   "outputs": [
    {
     "data": {
      "text/plain": [
       "(296, 43)"
      ]
     },
     "execution_count": 63,
     "metadata": {},
     "output_type": "execute_result"
    }
   ],
   "source": [
    "old_data_prepared.shape"
   ]
  },
  {
   "cell_type": "code",
   "execution_count": 64,
   "id": "caa0822f",
   "metadata": {},
   "outputs": [],
   "source": [
    "# np.allclose(data_prepared, old_data_prepared)"
   ]
  },
  {
   "cell_type": "markdown",
   "id": "e8924ec0",
   "metadata": {},
   "source": [
    "# Select and Train Model"
   ]
  },
  {
   "cell_type": "markdown",
   "id": "447caaee",
   "metadata": {},
   "source": [
    "## Training and Evaluating on the Training Set"
   ]
  },
  {
   "cell_type": "code",
   "execution_count": 65,
   "id": "acc1edd1",
   "metadata": {},
   "outputs": [
    {
     "data": {
      "text/plain": [
       "LinearRegression()"
      ]
     },
     "execution_count": 65,
     "metadata": {},
     "output_type": "execute_result"
    }
   ],
   "source": [
    "from sklearn.linear_model import LinearRegression\n",
    "\n",
    "lin_reg = LinearRegression()\n",
    "lin_reg.fit(data_prepared, data_labels)"
   ]
  },
  {
   "cell_type": "code",
   "execution_count": 66,
   "id": "8f95af68",
   "metadata": {},
   "outputs": [
    {
     "name": "stdout",
     "output_type": "stream",
     "text": [
      "Predictions: [1745.72591342 1264.92809026 1191.47264601 1570.23304229 1246.93393096]\n"
     ]
    }
   ],
   "source": [
    "some_data = data.iloc[:5]\n",
    "some_labels = data_labels.iloc[:5]\n",
    "some_data_prepared = full_pipeline.transform(some_data)\n",
    "\n",
    "print(\"Predictions:\", lin_reg.predict(some_data_prepared))"
   ]
  },
  {
   "cell_type": "code",
   "execution_count": 67,
   "id": "13829c7e",
   "metadata": {},
   "outputs": [
    {
     "name": "stdout",
     "output_type": "stream",
     "text": [
      "Labels: [1889.0, 1257.0, 1214.0, 1580.0, 1102.0]\n"
     ]
    }
   ],
   "source": [
    "print(\"Labels:\", list(some_labels))"
   ]
  },
  {
   "cell_type": "code",
   "execution_count": 68,
   "id": "790e0287",
   "metadata": {},
   "outputs": [
    {
     "data": {
      "text/plain": [
       "<5x43 sparse matrix of type '<class 'numpy.float64'>'\n",
       "\twith 50 stored elements in Compressed Sparse Row format>"
      ]
     },
     "execution_count": 68,
     "metadata": {},
     "output_type": "execute_result"
    }
   ],
   "source": [
    "some_data_prepared"
   ]
  },
  {
   "cell_type": "code",
   "execution_count": 69,
   "id": "9f4be0f9",
   "metadata": {},
   "outputs": [
    {
     "data": {
      "text/plain": [
       "96.64234636246314"
      ]
     },
     "execution_count": 69,
     "metadata": {},
     "output_type": "execute_result"
    }
   ],
   "source": [
    "from sklearn.metrics import mean_squared_error\n",
    "\n",
    "data_predictions = lin_reg.predict(data_prepared)\n",
    "lin_mse = mean_squared_error(data_labels, data_predictions)\n",
    "lin_rmse = np.sqrt(lin_mse)\n",
    "lin_rmse"
   ]
  },
  {
   "cell_type": "code",
   "execution_count": 70,
   "id": "06236228",
   "metadata": {},
   "outputs": [
    {
     "data": {
      "text/plain": [
       "69.06500873920699"
      ]
     },
     "execution_count": 70,
     "metadata": {},
     "output_type": "execute_result"
    }
   ],
   "source": [
    "from sklearn.metrics import mean_absolute_error\n",
    "\n",
    "lin_mae = mean_absolute_error(data_labels, data_predictions)\n",
    "lin_mae"
   ]
  },
  {
   "cell_type": "code",
   "execution_count": 71,
   "id": "9edd89d4",
   "metadata": {},
   "outputs": [
    {
     "data": {
      "text/plain": [
       "DecisionTreeRegressor(random_state=25)"
      ]
     },
     "execution_count": 71,
     "metadata": {},
     "output_type": "execute_result"
    }
   ],
   "source": [
    "from sklearn.tree import DecisionTreeRegressor\n",
    "\n",
    "tree_reg = DecisionTreeRegressor(random_state=25)\n",
    "tree_reg.fit(data_prepared, data_labels)"
   ]
  },
  {
   "cell_type": "code",
   "execution_count": 72,
   "id": "f753f3e9",
   "metadata": {},
   "outputs": [
    {
     "data": {
      "text/plain": [
       "0.0"
      ]
     },
     "execution_count": 72,
     "metadata": {},
     "output_type": "execute_result"
    }
   ],
   "source": [
    "data_predictions = tree_reg.predict(data_prepared)\n",
    "tree_mse = mean_squared_error(data_labels, data_predictions)\n",
    "tree_rmse = np.sqrt(tree_mse)\n",
    "tree_rmse"
   ]
  },
  {
   "cell_type": "markdown",
   "id": "3c7019de",
   "metadata": {},
   "source": [
    "## Better Evaluation Using Cross-Validation"
   ]
  },
  {
   "cell_type": "code",
   "execution_count": 73,
   "id": "728bebd4",
   "metadata": {},
   "outputs": [],
   "source": [
    "from sklearn.model_selection import cross_val_score\n",
    "\n",
    "scores = cross_val_score(tree_reg, data_prepared, data_labels,\n",
    "                         scoring=\"neg_mean_squared_error\", cv=10)\n",
    "tree_rmse_scores = np.sqrt(-scores)"
   ]
  },
  {
   "cell_type": "code",
   "execution_count": 74,
   "id": "dc04dab8",
   "metadata": {},
   "outputs": [
    {
     "name": "stdout",
     "output_type": "stream",
     "text": [
      "Scores: [160.01885306 166.77289948 111.6012246  139.92438434 101.36090634\n",
      " 140.51381901 148.39741609 167.30119442 208.59844281 155.7774717 ]\n",
      "Mean: 150.02666118607948\n",
      "Standard deviation: 28.605051640126863\n"
     ]
    }
   ],
   "source": [
    "def display_scores(scores):\n",
    "    print(\"Scores:\", scores)\n",
    "    print(\"Mean:\", scores.mean())\n",
    "    print(\"Standard deviation:\", scores.std())\n",
    "\n",
    "display_scores(tree_rmse_scores)"
   ]
  },
  {
   "cell_type": "code",
   "execution_count": 75,
   "id": "d2dd5da5",
   "metadata": {},
   "outputs": [
    {
     "name": "stdout",
     "output_type": "stream",
     "text": [
      "Scores: [110.31294465 107.68093272 119.12885622 157.99619654  84.90445731\n",
      " 106.39102363 125.88957184 114.12514426 108.53921306  94.73478373]\n",
      "Mean: 112.97031239424373\n",
      "Standard deviation: 18.578714584555218\n"
     ]
    }
   ],
   "source": [
    "lin_scores = cross_val_score(lin_reg, data_prepared, data_labels,\n",
    "                             scoring=\"neg_mean_squared_error\", cv=10)\n",
    "lin_rmse_scores = np.sqrt(-lin_scores)\n",
    "display_scores(lin_rmse_scores)"
   ]
  },
  {
   "cell_type": "code",
   "execution_count": 76,
   "id": "30e45fb4",
   "metadata": {},
   "outputs": [
    {
     "data": {
      "text/plain": [
       "RandomForestRegressor(random_state=42)"
      ]
     },
     "execution_count": 76,
     "metadata": {},
     "output_type": "execute_result"
    }
   ],
   "source": [
    "from sklearn.ensemble import RandomForestRegressor\n",
    "\n",
    "forest_reg = RandomForestRegressor(n_estimators=100, random_state=42)\n",
    "forest_reg.fit(data_prepared, data_labels)"
   ]
  },
  {
   "cell_type": "code",
   "execution_count": 77,
   "id": "4402b03e",
   "metadata": {},
   "outputs": [
    {
     "data": {
      "text/plain": [
       "38.95166118998597"
      ]
     },
     "execution_count": 77,
     "metadata": {},
     "output_type": "execute_result"
    }
   ],
   "source": [
    "data_predictions = forest_reg.predict(data_prepared)\n",
    "forest_mse = mean_squared_error(data_labels, data_predictions)\n",
    "forest_rmse = np.sqrt(forest_mse)\n",
    "forest_rmse"
   ]
  },
  {
   "cell_type": "code",
   "execution_count": 78,
   "id": "6117441a",
   "metadata": {},
   "outputs": [
    {
     "name": "stdout",
     "output_type": "stream",
     "text": [
      "Scores: [ 92.51535175  81.78187798  98.81635951 120.0642737   77.47934697\n",
      " 103.3967162  118.34170884 120.39398835 104.88605944 117.56165084]\n",
      "Mean: 103.52373335911211\n",
      "Standard deviation: 15.070052224416209\n"
     ]
    }
   ],
   "source": [
    "from sklearn.model_selection import cross_val_score\n",
    "\n",
    "forest_scores = cross_val_score(forest_reg, data_prepared, data_labels,\n",
    "                                scoring=\"neg_mean_squared_error\", cv=10)\n",
    "forest_rmse_scores = np.sqrt(-forest_scores)\n",
    "display_scores(forest_rmse_scores)"
   ]
  },
  {
   "cell_type": "code",
   "execution_count": 79,
   "id": "c0131b6d",
   "metadata": {},
   "outputs": [
    {
     "data": {
      "text/plain": [
       "count     10.000000\n",
       "mean     112.970312\n",
       "std       19.583685\n",
       "min       84.904457\n",
       "25%      106.713501\n",
       "50%      109.426079\n",
       "75%      117.877928\n",
       "max      157.996197\n",
       "dtype: float64"
      ]
     },
     "execution_count": 79,
     "metadata": {},
     "output_type": "execute_result"
    }
   ],
   "source": [
    "scores = cross_val_score(lin_reg, data_prepared, data_labels, scoring=\"neg_mean_squared_error\", cv=10)\n",
    "pd.Series(np.sqrt(-scores)).describe()"
   ]
  },
  {
   "cell_type": "code",
   "execution_count": 80,
   "id": "029fe3fe",
   "metadata": {},
   "outputs": [
    {
     "data": {
      "text/plain": [
       "38.95166118998597"
      ]
     },
     "execution_count": 80,
     "metadata": {},
     "output_type": "execute_result"
    }
   ],
   "source": [
    "from sklearn.svm import SVR\n",
    "\n",
    "svm_reg = SVR(kernel=\"linear\")\n",
    "svm_reg.fit(data_prepared, data_labels)\n",
    "housing_predictions = svm_reg.predict(data_prepared)\n",
    "svm_mse = mean_squared_error(data_labels, data_predictions)\n",
    "svm_rmse = np.sqrt(svm_mse)\n",
    "svm_rmse"
   ]
  },
  {
   "cell_type": "markdown",
   "id": "6b123c16",
   "metadata": {},
   "source": [
    "# Fine-Tune Model"
   ]
  },
  {
   "cell_type": "markdown",
   "id": "96feb57d",
   "metadata": {},
   "source": [
    "## Grid Search"
   ]
  },
  {
   "cell_type": "code",
   "execution_count": 81,
   "id": "0d268c83",
   "metadata": {},
   "outputs": [
    {
     "data": {
      "text/plain": [
       "GridSearchCV(cv=5, estimator=RandomForestRegressor(random_state=25),\n",
       "             param_grid=[{'max_features': [2, 4, 6, 8],\n",
       "                          'n_estimators': [3, 10, 30]},\n",
       "                         {'bootstrap': [False], 'max_features': [2, 3, 4],\n",
       "                          'n_estimators': [3, 10]}],\n",
       "             return_train_score=True, scoring='neg_mean_squared_error')"
      ]
     },
     "execution_count": 81,
     "metadata": {},
     "output_type": "execute_result"
    }
   ],
   "source": [
    "from sklearn.model_selection import GridSearchCV\n",
    "\n",
    "param_grid = [\n",
    "    # try 12 (3×4) combinations of hyperparameters\n",
    "    {'n_estimators': [3, 10, 30], 'max_features': [2, 4, 6, 8]},\n",
    "    # then try 6 (2×3) combinations with bootstrap set as False\n",
    "    {'bootstrap': [False], 'n_estimators': [3, 10], 'max_features': [2, 3, 4]},\n",
    "  ]\n",
    "\n",
    "forest_reg = RandomForestRegressor(random_state=25)\n",
    "# train across 5 folds, that's a total of (12+6)*5=90 rounds of training \n",
    "grid_search = GridSearchCV(forest_reg, param_grid, cv=5,\n",
    "                           scoring='neg_mean_squared_error',\n",
    "                           return_train_score=True)\n",
    "grid_search.fit(data_prepared,data_labels)"
   ]
  },
  {
   "cell_type": "code",
   "execution_count": 82,
   "id": "92084ced",
   "metadata": {},
   "outputs": [
    {
     "data": {
      "text/plain": [
       "{'max_features': 8, 'n_estimators': 30}"
      ]
     },
     "execution_count": 82,
     "metadata": {},
     "output_type": "execute_result"
    }
   ],
   "source": [
    "grid_search.best_params_"
   ]
  },
  {
   "cell_type": "code",
   "execution_count": 83,
   "id": "c8c537f3",
   "metadata": {},
   "outputs": [
    {
     "data": {
      "text/plain": [
       "RandomForestRegressor(max_features=8, n_estimators=30, random_state=25)"
      ]
     },
     "execution_count": 83,
     "metadata": {},
     "output_type": "execute_result"
    }
   ],
   "source": [
    "grid_search.best_estimator_"
   ]
  },
  {
   "cell_type": "code",
   "execution_count": 84,
   "id": "0cdecf97",
   "metadata": {},
   "outputs": [
    {
     "name": "stdout",
     "output_type": "stream",
     "text": [
      "135.37503852119096 {'max_features': 2, 'n_estimators': 3}\n",
      "128.75072997434444 {'max_features': 2, 'n_estimators': 10}\n",
      "125.49943466033133 {'max_features': 2, 'n_estimators': 30}\n",
      "146.72472183904287 {'max_features': 4, 'n_estimators': 3}\n",
      "122.81842026773568 {'max_features': 4, 'n_estimators': 10}\n",
      "121.52929746205062 {'max_features': 4, 'n_estimators': 30}\n",
      "149.76151805879348 {'max_features': 6, 'n_estimators': 3}\n",
      "122.64812551627264 {'max_features': 6, 'n_estimators': 10}\n",
      "114.85870563851125 {'max_features': 6, 'n_estimators': 30}\n",
      "131.67471648138064 {'max_features': 8, 'n_estimators': 3}\n",
      "122.34850088779807 {'max_features': 8, 'n_estimators': 10}\n",
      "111.28454883926076 {'max_features': 8, 'n_estimators': 30}\n",
      "140.92757443687304 {'bootstrap': False, 'max_features': 2, 'n_estimators': 3}\n",
      "120.18996924595926 {'bootstrap': False, 'max_features': 2, 'n_estimators': 10}\n",
      "141.61406793566852 {'bootstrap': False, 'max_features': 3, 'n_estimators': 3}\n",
      "124.86083721510319 {'bootstrap': False, 'max_features': 3, 'n_estimators': 10}\n",
      "135.20776723306489 {'bootstrap': False, 'max_features': 4, 'n_estimators': 3}\n",
      "113.33251055201502 {'bootstrap': False, 'max_features': 4, 'n_estimators': 10}\n"
     ]
    }
   ],
   "source": [
    "cvres = grid_search.cv_results_\n",
    "for mean_score, params in zip(cvres[\"mean_test_score\"], cvres[\"params\"]):\n",
    "    print(np.sqrt(-mean_score), params)"
   ]
  },
  {
   "cell_type": "code",
   "execution_count": 85,
   "id": "8457dc12",
   "metadata": {},
   "outputs": [
    {
     "data": {
      "text/html": [
       "<div>\n",
       "<style scoped>\n",
       "    .dataframe tbody tr th:only-of-type {\n",
       "        vertical-align: middle;\n",
       "    }\n",
       "\n",
       "    .dataframe tbody tr th {\n",
       "        vertical-align: top;\n",
       "    }\n",
       "\n",
       "    .dataframe thead th {\n",
       "        text-align: right;\n",
       "    }\n",
       "</style>\n",
       "<table border=\"1\" class=\"dataframe\">\n",
       "  <thead>\n",
       "    <tr style=\"text-align: right;\">\n",
       "      <th></th>\n",
       "      <th>mean_fit_time</th>\n",
       "      <th>std_fit_time</th>\n",
       "      <th>mean_score_time</th>\n",
       "      <th>std_score_time</th>\n",
       "      <th>param_max_features</th>\n",
       "      <th>param_n_estimators</th>\n",
       "      <th>param_bootstrap</th>\n",
       "      <th>params</th>\n",
       "      <th>split0_test_score</th>\n",
       "      <th>split1_test_score</th>\n",
       "      <th>...</th>\n",
       "      <th>mean_test_score</th>\n",
       "      <th>std_test_score</th>\n",
       "      <th>rank_test_score</th>\n",
       "      <th>split0_train_score</th>\n",
       "      <th>split1_train_score</th>\n",
       "      <th>split2_train_score</th>\n",
       "      <th>split3_train_score</th>\n",
       "      <th>split4_train_score</th>\n",
       "      <th>mean_train_score</th>\n",
       "      <th>std_train_score</th>\n",
       "    </tr>\n",
       "  </thead>\n",
       "  <tbody>\n",
       "    <tr>\n",
       "      <th>0</th>\n",
       "      <td>0.008187</td>\n",
       "      <td>0.001321</td>\n",
       "      <td>0.001394</td>\n",
       "      <td>0.000795</td>\n",
       "      <td>2</td>\n",
       "      <td>3</td>\n",
       "      <td>NaN</td>\n",
       "      <td>{'max_features': 2, 'n_estimators': 3}</td>\n",
       "      <td>-10219.800000</td>\n",
       "      <td>-15685.858757</td>\n",
       "      <td>...</td>\n",
       "      <td>-18326.401055</td>\n",
       "      <td>5988.960451</td>\n",
       "      <td>14</td>\n",
       "      <td>-6598.357345</td>\n",
       "      <td>-3839.682138</td>\n",
       "      <td>-7407.474918</td>\n",
       "      <td>-6332.084857</td>\n",
       "      <td>-6782.475856</td>\n",
       "      <td>-6192.015023</td>\n",
       "      <td>1228.347703</td>\n",
       "    </tr>\n",
       "    <tr>\n",
       "      <th>1</th>\n",
       "      <td>0.015267</td>\n",
       "      <td>0.000926</td>\n",
       "      <td>0.001203</td>\n",
       "      <td>0.000394</td>\n",
       "      <td>2</td>\n",
       "      <td>10</td>\n",
       "      <td>NaN</td>\n",
       "      <td>{'max_features': 2, 'n_estimators': 10}</td>\n",
       "      <td>-7765.441667</td>\n",
       "      <td>-16800.066949</td>\n",
       "      <td>...</td>\n",
       "      <td>-16576.750469</td>\n",
       "      <td>7720.945830</td>\n",
       "      <td>11</td>\n",
       "      <td>-3105.889195</td>\n",
       "      <td>-2589.878481</td>\n",
       "      <td>-3680.633671</td>\n",
       "      <td>-3375.438439</td>\n",
       "      <td>-3290.688776</td>\n",
       "      <td>-3208.505712</td>\n",
       "      <td>360.764522</td>\n",
       "    </tr>\n",
       "    <tr>\n",
       "      <th>2</th>\n",
       "      <td>0.045625</td>\n",
       "      <td>0.001539</td>\n",
       "      <td>0.003017</td>\n",
       "      <td>0.000634</td>\n",
       "      <td>2</td>\n",
       "      <td>30</td>\n",
       "      <td>NaN</td>\n",
       "      <td>{'max_features': 2, 'n_estimators': 30}</td>\n",
       "      <td>-8482.052704</td>\n",
       "      <td>-18168.306780</td>\n",
       "      <td>...</td>\n",
       "      <td>-15750.108100</td>\n",
       "      <td>5996.398477</td>\n",
       "      <td>10</td>\n",
       "      <td>-2513.765791</td>\n",
       "      <td>-2238.214055</td>\n",
       "      <td>-2475.301233</td>\n",
       "      <td>-2609.254791</td>\n",
       "      <td>-2053.920422</td>\n",
       "      <td>-2378.091259</td>\n",
       "      <td>202.951374</td>\n",
       "    </tr>\n",
       "    <tr>\n",
       "      <th>3</th>\n",
       "      <td>0.005899</td>\n",
       "      <td>0.000373</td>\n",
       "      <td>0.000996</td>\n",
       "      <td>0.000003</td>\n",
       "      <td>4</td>\n",
       "      <td>3</td>\n",
       "      <td>NaN</td>\n",
       "      <td>{'max_features': 4, 'n_estimators': 3}</td>\n",
       "      <td>-10915.853704</td>\n",
       "      <td>-19030.382298</td>\n",
       "      <td>...</td>\n",
       "      <td>-21528.143999</td>\n",
       "      <td>8992.582080</td>\n",
       "      <td>17</td>\n",
       "      <td>-6032.245292</td>\n",
       "      <td>-5285.639475</td>\n",
       "      <td>-6371.835443</td>\n",
       "      <td>-7819.527895</td>\n",
       "      <td>-7903.901547</td>\n",
       "      <td>-6682.629930</td>\n",
       "      <td>1025.204084</td>\n",
       "    </tr>\n",
       "    <tr>\n",
       "      <th>4</th>\n",
       "      <td>0.017148</td>\n",
       "      <td>0.001574</td>\n",
       "      <td>0.001797</td>\n",
       "      <td>0.000746</td>\n",
       "      <td>4</td>\n",
       "      <td>10</td>\n",
       "      <td>NaN</td>\n",
       "      <td>{'max_features': 4, 'n_estimators': 10}</td>\n",
       "      <td>-6691.534667</td>\n",
       "      <td>-15342.512373</td>\n",
       "      <td>...</td>\n",
       "      <td>-15084.364357</td>\n",
       "      <td>7057.069252</td>\n",
       "      <td>8</td>\n",
       "      <td>-3046.188983</td>\n",
       "      <td>-2628.531055</td>\n",
       "      <td>-3316.345021</td>\n",
       "      <td>-3142.162152</td>\n",
       "      <td>-3185.710295</td>\n",
       "      <td>-3063.787501</td>\n",
       "      <td>234.329228</td>\n",
       "    </tr>\n",
       "    <tr>\n",
       "      <th>5</th>\n",
       "      <td>0.046545</td>\n",
       "      <td>0.004703</td>\n",
       "      <td>0.003431</td>\n",
       "      <td>0.001334</td>\n",
       "      <td>4</td>\n",
       "      <td>30</td>\n",
       "      <td>NaN</td>\n",
       "      <td>{'max_features': 4, 'n_estimators': 30}</td>\n",
       "      <td>-7324.048778</td>\n",
       "      <td>-13832.217420</td>\n",
       "      <td>...</td>\n",
       "      <td>-14769.370142</td>\n",
       "      <td>6255.770749</td>\n",
       "      <td>5</td>\n",
       "      <td>-2588.533508</td>\n",
       "      <td>-1846.491871</td>\n",
       "      <td>-2436.323366</td>\n",
       "      <td>-2379.155518</td>\n",
       "      <td>-1906.896765</td>\n",
       "      <td>-2231.480205</td>\n",
       "      <td>298.270416</td>\n",
       "    </tr>\n",
       "    <tr>\n",
       "      <th>6</th>\n",
       "      <td>0.005843</td>\n",
       "      <td>0.000348</td>\n",
       "      <td>0.000990</td>\n",
       "      <td>0.000014</td>\n",
       "      <td>6</td>\n",
       "      <td>3</td>\n",
       "      <td>NaN</td>\n",
       "      <td>{'max_features': 6, 'n_estimators': 3}</td>\n",
       "      <td>-15935.874074</td>\n",
       "      <td>-24509.926554</td>\n",
       "      <td>...</td>\n",
       "      <td>-22428.512291</td>\n",
       "      <td>6289.865467</td>\n",
       "      <td>18</td>\n",
       "      <td>-5754.181262</td>\n",
       "      <td>-5639.925926</td>\n",
       "      <td>-5634.023910</td>\n",
       "      <td>-4759.183310</td>\n",
       "      <td>-9657.257384</td>\n",
       "      <td>-6288.914358</td>\n",
       "      <td>1721.732778</td>\n",
       "    </tr>\n",
       "    <tr>\n",
       "      <th>7</th>\n",
       "      <td>0.015703</td>\n",
       "      <td>0.000418</td>\n",
       "      <td>0.001641</td>\n",
       "      <td>0.000465</td>\n",
       "      <td>6</td>\n",
       "      <td>10</td>\n",
       "      <td>NaN</td>\n",
       "      <td>{'max_features': 6, 'n_estimators': 10}</td>\n",
       "      <td>-7021.365667</td>\n",
       "      <td>-19057.641017</td>\n",
       "      <td>...</td>\n",
       "      <td>-15042.562693</td>\n",
       "      <td>6998.932365</td>\n",
       "      <td>7</td>\n",
       "      <td>-2877.861695</td>\n",
       "      <td>-2599.907215</td>\n",
       "      <td>-2623.386582</td>\n",
       "      <td>-2235.477215</td>\n",
       "      <td>-3547.735865</td>\n",
       "      <td>-2776.873715</td>\n",
       "      <td>436.443041</td>\n",
       "    </tr>\n",
       "    <tr>\n",
       "      <th>8</th>\n",
       "      <td>0.049503</td>\n",
       "      <td>0.002666</td>\n",
       "      <td>0.002678</td>\n",
       "      <td>0.000504</td>\n",
       "      <td>6</td>\n",
       "      <td>30</td>\n",
       "      <td>NaN</td>\n",
       "      <td>{'max_features': 6, 'n_estimators': 30}</td>\n",
       "      <td>-6285.146352</td>\n",
       "      <td>-15372.300942</td>\n",
       "      <td>...</td>\n",
       "      <td>-13192.522261</td>\n",
       "      <td>5324.700485</td>\n",
       "      <td>3</td>\n",
       "      <td>-2174.814011</td>\n",
       "      <td>-1737.785340</td>\n",
       "      <td>-1922.054304</td>\n",
       "      <td>-1735.285546</td>\n",
       "      <td>-1841.578884</td>\n",
       "      <td>-1882.303617</td>\n",
       "      <td>162.049867</td>\n",
       "    </tr>\n",
       "    <tr>\n",
       "      <th>9</th>\n",
       "      <td>0.006590</td>\n",
       "      <td>0.001214</td>\n",
       "      <td>0.000799</td>\n",
       "      <td>0.000400</td>\n",
       "      <td>8</td>\n",
       "      <td>3</td>\n",
       "      <td>NaN</td>\n",
       "      <td>{'max_features': 8, 'n_estimators': 3}</td>\n",
       "      <td>-14979.422222</td>\n",
       "      <td>-20430.630885</td>\n",
       "      <td>...</td>\n",
       "      <td>-17338.230960</td>\n",
       "      <td>6785.647391</td>\n",
       "      <td>12</td>\n",
       "      <td>-5183.943503</td>\n",
       "      <td>-5139.112518</td>\n",
       "      <td>-5734.781060</td>\n",
       "      <td>-4856.249883</td>\n",
       "      <td>-6888.296296</td>\n",
       "      <td>-5560.476652</td>\n",
       "      <td>722.322272</td>\n",
       "    </tr>\n",
       "    <tr>\n",
       "      <th>10</th>\n",
       "      <td>0.018292</td>\n",
       "      <td>0.001286</td>\n",
       "      <td>0.001596</td>\n",
       "      <td>0.000489</td>\n",
       "      <td>8</td>\n",
       "      <td>10</td>\n",
       "      <td>NaN</td>\n",
       "      <td>{'max_features': 8, 'n_estimators': 10}</td>\n",
       "      <td>-6648.227500</td>\n",
       "      <td>-18799.137458</td>\n",
       "      <td>...</td>\n",
       "      <td>-14969.155669</td>\n",
       "      <td>7505.718204</td>\n",
       "      <td>6</td>\n",
       "      <td>-2867.721822</td>\n",
       "      <td>-2668.987722</td>\n",
       "      <td>-2656.245781</td>\n",
       "      <td>-2742.865274</td>\n",
       "      <td>-2961.346076</td>\n",
       "      <td>-2779.433335</td>\n",
       "      <td>117.981128</td>\n",
       "    </tr>\n",
       "    <tr>\n",
       "      <th>11</th>\n",
       "      <td>0.050161</td>\n",
       "      <td>0.002460</td>\n",
       "      <td>0.002623</td>\n",
       "      <td>0.000814</td>\n",
       "      <td>8</td>\n",
       "      <td>30</td>\n",
       "      <td>NaN</td>\n",
       "      <td>{'max_features': 8, 'n_estimators': 30}</td>\n",
       "      <td>-6364.426500</td>\n",
       "      <td>-14707.789021</td>\n",
       "      <td>...</td>\n",
       "      <td>-12384.250810</td>\n",
       "      <td>4349.721093</td>\n",
       "      <td>1</td>\n",
       "      <td>-2198.189543</td>\n",
       "      <td>-1704.598814</td>\n",
       "      <td>-1796.232865</td>\n",
       "      <td>-1745.974979</td>\n",
       "      <td>-1619.145274</td>\n",
       "      <td>-1812.828295</td>\n",
       "      <td>201.233595</td>\n",
       "    </tr>\n",
       "    <tr>\n",
       "      <th>12</th>\n",
       "      <td>0.005389</td>\n",
       "      <td>0.000486</td>\n",
       "      <td>0.000794</td>\n",
       "      <td>0.000397</td>\n",
       "      <td>2</td>\n",
       "      <td>3</td>\n",
       "      <td>False</td>\n",
       "      <td>{'bootstrap': False, 'max_features': 2, 'n_est...</td>\n",
       "      <td>-18251.868519</td>\n",
       "      <td>-20381.252354</td>\n",
       "      <td>...</td>\n",
       "      <td>-19860.581237</td>\n",
       "      <td>2228.289018</td>\n",
       "      <td>15</td>\n",
       "      <td>-0.000000</td>\n",
       "      <td>-0.000000</td>\n",
       "      <td>-11.685888</td>\n",
       "      <td>-0.000000</td>\n",
       "      <td>-14.068448</td>\n",
       "      <td>-5.150867</td>\n",
       "      <td>6.353331</td>\n",
       "    </tr>\n",
       "    <tr>\n",
       "      <th>13</th>\n",
       "      <td>0.014799</td>\n",
       "      <td>0.000794</td>\n",
       "      <td>0.001391</td>\n",
       "      <td>0.000478</td>\n",
       "      <td>2</td>\n",
       "      <td>10</td>\n",
       "      <td>False</td>\n",
       "      <td>{'bootstrap': False, 'max_features': 2, 'n_est...</td>\n",
       "      <td>-8161.201333</td>\n",
       "      <td>-15284.266271</td>\n",
       "      <td>...</td>\n",
       "      <td>-14445.628707</td>\n",
       "      <td>4602.015694</td>\n",
       "      <td>4</td>\n",
       "      <td>-0.000000</td>\n",
       "      <td>-0.058059</td>\n",
       "      <td>-1.051730</td>\n",
       "      <td>-0.000000</td>\n",
       "      <td>-1.266160</td>\n",
       "      <td>-0.475190</td>\n",
       "      <td>0.562786</td>\n",
       "    </tr>\n",
       "    <tr>\n",
       "      <th>14</th>\n",
       "      <td>0.005916</td>\n",
       "      <td>0.000392</td>\n",
       "      <td>0.000606</td>\n",
       "      <td>0.000495</td>\n",
       "      <td>3</td>\n",
       "      <td>3</td>\n",
       "      <td>False</td>\n",
       "      <td>{'bootstrap': False, 'max_features': 3, 'n_est...</td>\n",
       "      <td>-16340.338889</td>\n",
       "      <td>-24247.397363</td>\n",
       "      <td>...</td>\n",
       "      <td>-20054.544237</td>\n",
       "      <td>4699.818609</td>\n",
       "      <td>16</td>\n",
       "      <td>-0.000000</td>\n",
       "      <td>-0.000000</td>\n",
       "      <td>-0.000000</td>\n",
       "      <td>-0.000000</td>\n",
       "      <td>-0.000000</td>\n",
       "      <td>0.000000</td>\n",
       "      <td>0.000000</td>\n",
       "    </tr>\n",
       "    <tr>\n",
       "      <th>15</th>\n",
       "      <td>0.015914</td>\n",
       "      <td>0.002275</td>\n",
       "      <td>0.001411</td>\n",
       "      <td>0.000493</td>\n",
       "      <td>3</td>\n",
       "      <td>10</td>\n",
       "      <td>False</td>\n",
       "      <td>{'bootstrap': False, 'max_features': 3, 'n_est...</td>\n",
       "      <td>-9765.822333</td>\n",
       "      <td>-19271.782203</td>\n",
       "      <td>...</td>\n",
       "      <td>-15590.228670</td>\n",
       "      <td>5619.186027</td>\n",
       "      <td>9</td>\n",
       "      <td>-0.000000</td>\n",
       "      <td>-0.000000</td>\n",
       "      <td>-0.000000</td>\n",
       "      <td>-0.000000</td>\n",
       "      <td>-0.000000</td>\n",
       "      <td>0.000000</td>\n",
       "      <td>0.000000</td>\n",
       "    </tr>\n",
       "    <tr>\n",
       "      <th>16</th>\n",
       "      <td>0.006382</td>\n",
       "      <td>0.001351</td>\n",
       "      <td>0.001201</td>\n",
       "      <td>0.000407</td>\n",
       "      <td>4</td>\n",
       "      <td>3</td>\n",
       "      <td>False</td>\n",
       "      <td>{'bootstrap': False, 'max_features': 4, 'n_est...</td>\n",
       "      <td>-12658.494444</td>\n",
       "      <td>-24730.146893</td>\n",
       "      <td>...</td>\n",
       "      <td>-18281.140320</td>\n",
       "      <td>6472.174646</td>\n",
       "      <td>13</td>\n",
       "      <td>-0.000000</td>\n",
       "      <td>-0.000000</td>\n",
       "      <td>-0.000000</td>\n",
       "      <td>-0.000000</td>\n",
       "      <td>-0.000000</td>\n",
       "      <td>0.000000</td>\n",
       "      <td>0.000000</td>\n",
       "    </tr>\n",
       "    <tr>\n",
       "      <th>17</th>\n",
       "      <td>0.015313</td>\n",
       "      <td>0.000199</td>\n",
       "      <td>0.001397</td>\n",
       "      <td>0.000491</td>\n",
       "      <td>4</td>\n",
       "      <td>10</td>\n",
       "      <td>False</td>\n",
       "      <td>{'bootstrap': False, 'max_features': 4, 'n_est...</td>\n",
       "      <td>-8185.335333</td>\n",
       "      <td>-16400.191864</td>\n",
       "      <td>...</td>\n",
       "      <td>-12844.257948</td>\n",
       "      <td>4188.982978</td>\n",
       "      <td>2</td>\n",
       "      <td>-0.000000</td>\n",
       "      <td>-0.000000</td>\n",
       "      <td>-0.000000</td>\n",
       "      <td>-0.000000</td>\n",
       "      <td>-0.000000</td>\n",
       "      <td>0.000000</td>\n",
       "      <td>0.000000</td>\n",
       "    </tr>\n",
       "  </tbody>\n",
       "</table>\n",
       "<p>18 rows × 23 columns</p>\n",
       "</div>"
      ],
      "text/plain": [
       "    mean_fit_time  std_fit_time  mean_score_time  std_score_time  \\\n",
       "0        0.008187      0.001321         0.001394        0.000795   \n",
       "1        0.015267      0.000926         0.001203        0.000394   \n",
       "2        0.045625      0.001539         0.003017        0.000634   \n",
       "3        0.005899      0.000373         0.000996        0.000003   \n",
       "4        0.017148      0.001574         0.001797        0.000746   \n",
       "5        0.046545      0.004703         0.003431        0.001334   \n",
       "6        0.005843      0.000348         0.000990        0.000014   \n",
       "7        0.015703      0.000418         0.001641        0.000465   \n",
       "8        0.049503      0.002666         0.002678        0.000504   \n",
       "9        0.006590      0.001214         0.000799        0.000400   \n",
       "10       0.018292      0.001286         0.001596        0.000489   \n",
       "11       0.050161      0.002460         0.002623        0.000814   \n",
       "12       0.005389      0.000486         0.000794        0.000397   \n",
       "13       0.014799      0.000794         0.001391        0.000478   \n",
       "14       0.005916      0.000392         0.000606        0.000495   \n",
       "15       0.015914      0.002275         0.001411        0.000493   \n",
       "16       0.006382      0.001351         0.001201        0.000407   \n",
       "17       0.015313      0.000199         0.001397        0.000491   \n",
       "\n",
       "   param_max_features param_n_estimators param_bootstrap  \\\n",
       "0                   2                  3             NaN   \n",
       "1                   2                 10             NaN   \n",
       "2                   2                 30             NaN   \n",
       "3                   4                  3             NaN   \n",
       "4                   4                 10             NaN   \n",
       "5                   4                 30             NaN   \n",
       "6                   6                  3             NaN   \n",
       "7                   6                 10             NaN   \n",
       "8                   6                 30             NaN   \n",
       "9                   8                  3             NaN   \n",
       "10                  8                 10             NaN   \n",
       "11                  8                 30             NaN   \n",
       "12                  2                  3           False   \n",
       "13                  2                 10           False   \n",
       "14                  3                  3           False   \n",
       "15                  3                 10           False   \n",
       "16                  4                  3           False   \n",
       "17                  4                 10           False   \n",
       "\n",
       "                                               params  split0_test_score  \\\n",
       "0              {'max_features': 2, 'n_estimators': 3}      -10219.800000   \n",
       "1             {'max_features': 2, 'n_estimators': 10}       -7765.441667   \n",
       "2             {'max_features': 2, 'n_estimators': 30}       -8482.052704   \n",
       "3              {'max_features': 4, 'n_estimators': 3}      -10915.853704   \n",
       "4             {'max_features': 4, 'n_estimators': 10}       -6691.534667   \n",
       "5             {'max_features': 4, 'n_estimators': 30}       -7324.048778   \n",
       "6              {'max_features': 6, 'n_estimators': 3}      -15935.874074   \n",
       "7             {'max_features': 6, 'n_estimators': 10}       -7021.365667   \n",
       "8             {'max_features': 6, 'n_estimators': 30}       -6285.146352   \n",
       "9              {'max_features': 8, 'n_estimators': 3}      -14979.422222   \n",
       "10            {'max_features': 8, 'n_estimators': 10}       -6648.227500   \n",
       "11            {'max_features': 8, 'n_estimators': 30}       -6364.426500   \n",
       "12  {'bootstrap': False, 'max_features': 2, 'n_est...      -18251.868519   \n",
       "13  {'bootstrap': False, 'max_features': 2, 'n_est...       -8161.201333   \n",
       "14  {'bootstrap': False, 'max_features': 3, 'n_est...      -16340.338889   \n",
       "15  {'bootstrap': False, 'max_features': 3, 'n_est...       -9765.822333   \n",
       "16  {'bootstrap': False, 'max_features': 4, 'n_est...      -12658.494444   \n",
       "17  {'bootstrap': False, 'max_features': 4, 'n_est...       -8185.335333   \n",
       "\n",
       "    split1_test_score  ...  mean_test_score  std_test_score  rank_test_score  \\\n",
       "0       -15685.858757  ...    -18326.401055     5988.960451               14   \n",
       "1       -16800.066949  ...    -16576.750469     7720.945830               11   \n",
       "2       -18168.306780  ...    -15750.108100     5996.398477               10   \n",
       "3       -19030.382298  ...    -21528.143999     8992.582080               17   \n",
       "4       -15342.512373  ...    -15084.364357     7057.069252                8   \n",
       "5       -13832.217420  ...    -14769.370142     6255.770749                5   \n",
       "6       -24509.926554  ...    -22428.512291     6289.865467               18   \n",
       "7       -19057.641017  ...    -15042.562693     6998.932365                7   \n",
       "8       -15372.300942  ...    -13192.522261     5324.700485                3   \n",
       "9       -20430.630885  ...    -17338.230960     6785.647391               12   \n",
       "10      -18799.137458  ...    -14969.155669     7505.718204                6   \n",
       "11      -14707.789021  ...    -12384.250810     4349.721093                1   \n",
       "12      -20381.252354  ...    -19860.581237     2228.289018               15   \n",
       "13      -15284.266271  ...    -14445.628707     4602.015694                4   \n",
       "14      -24247.397363  ...    -20054.544237     4699.818609               16   \n",
       "15      -19271.782203  ...    -15590.228670     5619.186027                9   \n",
       "16      -24730.146893  ...    -18281.140320     6472.174646               13   \n",
       "17      -16400.191864  ...    -12844.257948     4188.982978                2   \n",
       "\n",
       "    split0_train_score  split1_train_score  split2_train_score  \\\n",
       "0         -6598.357345        -3839.682138        -7407.474918   \n",
       "1         -3105.889195        -2589.878481        -3680.633671   \n",
       "2         -2513.765791        -2238.214055        -2475.301233   \n",
       "3         -6032.245292        -5285.639475        -6371.835443   \n",
       "4         -3046.188983        -2628.531055        -3316.345021   \n",
       "5         -2588.533508        -1846.491871        -2436.323366   \n",
       "6         -5754.181262        -5639.925926        -5634.023910   \n",
       "7         -2877.861695        -2599.907215        -2623.386582   \n",
       "8         -2174.814011        -1737.785340        -1922.054304   \n",
       "9         -5183.943503        -5139.112518        -5734.781060   \n",
       "10        -2867.721822        -2668.987722        -2656.245781   \n",
       "11        -2198.189543        -1704.598814        -1796.232865   \n",
       "12           -0.000000           -0.000000          -11.685888   \n",
       "13           -0.000000           -0.058059           -1.051730   \n",
       "14           -0.000000           -0.000000           -0.000000   \n",
       "15           -0.000000           -0.000000           -0.000000   \n",
       "16           -0.000000           -0.000000           -0.000000   \n",
       "17           -0.000000           -0.000000           -0.000000   \n",
       "\n",
       "    split3_train_score  split4_train_score  mean_train_score  std_train_score  \n",
       "0         -6332.084857        -6782.475856      -6192.015023      1228.347703  \n",
       "1         -3375.438439        -3290.688776      -3208.505712       360.764522  \n",
       "2         -2609.254791        -2053.920422      -2378.091259       202.951374  \n",
       "3         -7819.527895        -7903.901547      -6682.629930      1025.204084  \n",
       "4         -3142.162152        -3185.710295      -3063.787501       234.329228  \n",
       "5         -2379.155518        -1906.896765      -2231.480205       298.270416  \n",
       "6         -4759.183310        -9657.257384      -6288.914358      1721.732778  \n",
       "7         -2235.477215        -3547.735865      -2776.873715       436.443041  \n",
       "8         -1735.285546        -1841.578884      -1882.303617       162.049867  \n",
       "9         -4856.249883        -6888.296296      -5560.476652       722.322272  \n",
       "10        -2742.865274        -2961.346076      -2779.433335       117.981128  \n",
       "11        -1745.974979        -1619.145274      -1812.828295       201.233595  \n",
       "12           -0.000000          -14.068448         -5.150867         6.353331  \n",
       "13           -0.000000           -1.266160         -0.475190         0.562786  \n",
       "14           -0.000000           -0.000000          0.000000         0.000000  \n",
       "15           -0.000000           -0.000000          0.000000         0.000000  \n",
       "16           -0.000000           -0.000000          0.000000         0.000000  \n",
       "17           -0.000000           -0.000000          0.000000         0.000000  \n",
       "\n",
       "[18 rows x 23 columns]"
      ]
     },
     "execution_count": 85,
     "metadata": {},
     "output_type": "execute_result"
    }
   ],
   "source": [
    "pd.DataFrame(grid_search.cv_results_)"
   ]
  },
  {
   "cell_type": "markdown",
   "id": "28415d4c",
   "metadata": {},
   "source": [
    "## Randomized Search"
   ]
  },
  {
   "cell_type": "code",
   "execution_count": 86,
   "id": "fd52432d",
   "metadata": {},
   "outputs": [
    {
     "data": {
      "text/plain": [
       "RandomizedSearchCV(cv=5, estimator=RandomForestRegressor(random_state=25),\n",
       "                   param_distributions={'max_features': <scipy.stats._distn_infrastructure.rv_frozen object at 0x000001823C0D4490>,\n",
       "                                        'n_estimators': <scipy.stats._distn_infrastructure.rv_frozen object at 0x000001823C0C81C0>},\n",
       "                   random_state=42, scoring='neg_mean_squared_error')"
      ]
     },
     "execution_count": 86,
     "metadata": {},
     "output_type": "execute_result"
    }
   ],
   "source": [
    "from sklearn.model_selection import RandomizedSearchCV\n",
    "from scipy.stats import randint\n",
    "\n",
    "param_distribs = {\n",
    "        'n_estimators': randint(low=1, high=200),\n",
    "        'max_features': randint(low=1, high=8),\n",
    "    }\n",
    "\n",
    "forest_reg = RandomForestRegressor(random_state=25)\n",
    "rnd_search = RandomizedSearchCV(forest_reg, param_distributions=param_distribs,\n",
    "                                n_iter=10, cv=5, scoring='neg_mean_squared_error', random_state=42)\n",
    "rnd_search.fit(data_prepared, data_labels)"
   ]
  },
  {
   "cell_type": "code",
   "execution_count": 87,
   "id": "87861206",
   "metadata": {},
   "outputs": [
    {
     "name": "stdout",
     "output_type": "stream",
     "text": [
      "108.37158387009167 {'max_features': 7, 'n_estimators': 180}\n",
      "118.47821057441959 {'max_features': 5, 'n_estimators': 15}\n",
      "118.47129594987092 {'max_features': 3, 'n_estimators': 72}\n",
      "116.48594348253894 {'max_features': 5, 'n_estimators': 21}\n",
      "109.10401639436509 {'max_features': 7, 'n_estimators': 122}\n",
      "117.88285064002399 {'max_features': 3, 'n_estimators': 75}\n",
      "117.79458792376774 {'max_features': 3, 'n_estimators': 88}\n",
      "112.66253758594775 {'max_features': 5, 'n_estimators': 100}\n",
      "118.76528379705432 {'max_features': 3, 'n_estimators': 150}\n",
      "150.53706860910947 {'max_features': 5, 'n_estimators': 2}\n"
     ]
    }
   ],
   "source": [
    "cvres = rnd_search.cv_results_\n",
    "for mean_score, params in zip(cvres[\"mean_test_score\"], cvres[\"params\"]):\n",
    "    print(np.sqrt(-mean_score), params)"
   ]
  },
  {
   "cell_type": "markdown",
   "id": "6f9ac80b",
   "metadata": {},
   "source": [
    "## Analyze the Best Models and Their Errors"
   ]
  },
  {
   "cell_type": "code",
   "execution_count": 88,
   "id": "5007bcd2",
   "metadata": {},
   "outputs": [
    {
     "data": {
      "text/plain": [
       "array([4.52891260e-02, 6.24110831e-02, 9.79747409e-02, 1.73902708e-01,\n",
       "       7.19989952e-02, 1.21754152e-01, 1.49583067e-01, 2.02091648e-01,\n",
       "       8.85220481e-03, 6.03466358e-03, 1.43526446e-02, 3.86942532e-03,\n",
       "       3.66901878e-03, 4.65926913e-04, 5.74335904e-04, 1.30315375e-03,\n",
       "       1.10350993e-05, 3.88659599e-05, 4.15761477e-03, 9.37920303e-04,\n",
       "       5.75079863e-03, 1.46794245e-04, 2.44989975e-04, 5.68905143e-04,\n",
       "       3.15845485e-04, 2.76665360e-03, 1.86726794e-04, 3.12959648e-03,\n",
       "       1.46090722e-03, 7.25269258e-06, 4.14979394e-03, 3.65329376e-04,\n",
       "       1.49346467e-03, 5.56132847e-04, 1.51520317e-03, 2.92575625e-03,\n",
       "       4.62227923e-04, 2.61006152e-05, 3.46396456e-03, 7.88461736e-05,\n",
       "       3.39254061e-06, 9.27779040e-04, 1.81207833e-04])"
      ]
     },
     "execution_count": 88,
     "metadata": {},
     "output_type": "execute_result"
    }
   ],
   "source": [
    "feature_importances = grid_search.best_estimator_.feature_importances_\n",
    "feature_importances"
   ]
  },
  {
   "cell_type": "code",
   "execution_count": 89,
   "id": "bbf08692",
   "metadata": {},
   "outputs": [
    {
     "data": {
      "text/plain": [
       "[(0.20209164841186358, 'Percent Tested'),\n",
       " (0.17390270832083118, 'Percent White'),\n",
       " (0.1495830674691115, 'Percent Asian'),\n",
       " (0.12175415167506476, 'Percent Hispanic'),\n",
       " (0.09797474091501336, 'Student Enrollment'),\n",
       " (0.0719989951711062, 'Percent Black'),\n",
       " (0.06241108308315743, 'Longitude'),\n",
       " (0.04528912598870924, 'Latitude'),\n",
       " (0.014352644567489088, 'bedrooms_per_room'),\n",
       " (0.008852204814151866, 'rooms_per_hhold'),\n",
       " (0.006034663578818045, 'pop_per_hhold'),\n",
       " (0.0038694253192430006, 'Bronx'),\n",
       " (0.0036690187762039037, 'Brooklyn'),\n",
       " (0.0013031537539854423, 'Staten Island'),\n",
       " (0.0005743359036852821, 'Queens'),\n",
       " (0.0004659269128735284, 'Manhattan')]"
      ]
     },
     "execution_count": 89,
     "metadata": {},
     "output_type": "execute_result"
    }
   ],
   "source": [
    "extra_attribs = [\"rooms_per_hhold\", \"pop_per_hhold\", \"bedrooms_per_room\"]\n",
    "#cat_encoder = cat_pipeline.named_steps[\"cat_encoder\"] # old solution\n",
    "cat_encoder = full_pipeline.named_transformers_[\"cat\"]\n",
    "cat_one_hot_attribs = list(cat_encoder.categories_[0])\n",
    "attributes = num_attribs + extra_attribs + cat_one_hot_attribs\n",
    "sorted(zip(feature_importances, attributes), reverse=True)"
   ]
  },
  {
   "cell_type": "markdown",
   "id": "fe5a60a4",
   "metadata": {},
   "source": [
    "## Evaluate Your System on the Test Set"
   ]
  },
  {
   "cell_type": "code",
   "execution_count": 91,
   "id": "36635f17",
   "metadata": {},
   "outputs": [
    {
     "name": "stdout",
     "output_type": "stream",
     "text": [
      "(78, 16) (78,)\n"
     ]
    }
   ],
   "source": [
    "final_model = grid_search.best_estimator_\n",
    "\n",
    "# drop nans\n",
    "strat_test_set = strat_test_set.dropna()\n",
    "\n",
    "X_test = strat_test_set.drop(\"average_total_score\", axis=1) # drop labels for test set\n",
    "y_test = strat_test_set[\"average_total_score\"].copy()\n",
    "y_test = y_test.dropna()\n",
    "X_test.head()\n",
    "\n",
    "print(strat_test_set.shape, y_test.shape)"
   ]
  },
  {
   "cell_type": "code",
   "execution_count": 92,
   "id": "27feb8fd",
   "metadata": {},
   "outputs": [
    {
     "data": {
      "text/html": [
       "<div>\n",
       "<style scoped>\n",
       "    .dataframe tbody tr th:only-of-type {\n",
       "        vertical-align: middle;\n",
       "    }\n",
       "\n",
       "    .dataframe tbody tr th {\n",
       "        vertical-align: top;\n",
       "    }\n",
       "\n",
       "    .dataframe thead th {\n",
       "        text-align: right;\n",
       "    }\n",
       "</style>\n",
       "<table border=\"1\" class=\"dataframe\">\n",
       "  <thead>\n",
       "    <tr style=\"text-align: right;\">\n",
       "      <th></th>\n",
       "      <th>School ID</th>\n",
       "      <th>Borough</th>\n",
       "      <th>Building Code</th>\n",
       "      <th>City</th>\n",
       "      <th>Zip Code</th>\n",
       "      <th>Latitude</th>\n",
       "      <th>Longitude</th>\n",
       "      <th>Start Time</th>\n",
       "      <th>End Time</th>\n",
       "      <th>Student Enrollment</th>\n",
       "      <th>Percent White</th>\n",
       "      <th>Percent Black</th>\n",
       "      <th>Percent Hispanic</th>\n",
       "      <th>Percent Asian</th>\n",
       "      <th>Percent Tested</th>\n",
       "    </tr>\n",
       "  </thead>\n",
       "  <tbody>\n",
       "    <tr>\n",
       "      <th>154</th>\n",
       "      <td>09X413</td>\n",
       "      <td>Bronx</td>\n",
       "      <td>X410</td>\n",
       "      <td>Bronx</td>\n",
       "      <td>10457</td>\n",
       "      <td>40.84037</td>\n",
       "      <td>-73.91084</td>\n",
       "      <td>7:45 AM</td>\n",
       "      <td>3:15 PM</td>\n",
       "      <td>472.0</td>\n",
       "      <td>0.007</td>\n",
       "      <td>0.367</td>\n",
       "      <td>0.534</td>\n",
       "      <td>0.071</td>\n",
       "      <td>0.839</td>\n",
       "    </tr>\n",
       "    <tr>\n",
       "      <th>101</th>\n",
       "      <td>02M459</td>\n",
       "      <td>Manhattan</td>\n",
       "      <td>M480</td>\n",
       "      <td>Manhattan</td>\n",
       "      <td>10065</td>\n",
       "      <td>40.76545</td>\n",
       "      <td>-73.96021</td>\n",
       "      <td>8:45 AM</td>\n",
       "      <td>3:05 PM</td>\n",
       "      <td>343.0</td>\n",
       "      <td>0.122</td>\n",
       "      <td>0.166</td>\n",
       "      <td>0.411</td>\n",
       "      <td>0.294</td>\n",
       "      <td>0.586</td>\n",
       "    </tr>\n",
       "    <tr>\n",
       "      <th>249</th>\n",
       "      <td>30Q501</td>\n",
       "      <td>Queens</td>\n",
       "      <td>Q570</td>\n",
       "      <td>Astoria</td>\n",
       "      <td>11106</td>\n",
       "      <td>40.75653</td>\n",
       "      <td>-73.92514</td>\n",
       "      <td>7:45 AM</td>\n",
       "      <td>3:15 PM</td>\n",
       "      <td>808.0</td>\n",
       "      <td>0.387</td>\n",
       "      <td>0.136</td>\n",
       "      <td>0.334</td>\n",
       "      <td>0.105</td>\n",
       "      <td>0.895</td>\n",
       "    </tr>\n",
       "    <tr>\n",
       "      <th>219</th>\n",
       "      <td>12X692</td>\n",
       "      <td>Bronx</td>\n",
       "      <td>X420</td>\n",
       "      <td>Bronx</td>\n",
       "      <td>10472</td>\n",
       "      <td>40.83137</td>\n",
       "      <td>-73.87882</td>\n",
       "      <td>8:30 AM</td>\n",
       "      <td>3:00 PM</td>\n",
       "      <td>445.0</td>\n",
       "      <td>0.009</td>\n",
       "      <td>0.180</td>\n",
       "      <td>0.784</td>\n",
       "      <td>0.011</td>\n",
       "      <td>0.468</td>\n",
       "    </tr>\n",
       "    <tr>\n",
       "      <th>69</th>\n",
       "      <td>05M362</td>\n",
       "      <td>Manhattan</td>\n",
       "      <td>M125</td>\n",
       "      <td>Manhattan</td>\n",
       "      <td>10027</td>\n",
       "      <td>40.81092</td>\n",
       "      <td>-73.95693</td>\n",
       "      <td>8:00 AM</td>\n",
       "      <td>4:00 PM</td>\n",
       "      <td>659.0</td>\n",
       "      <td>0.148</td>\n",
       "      <td>0.220</td>\n",
       "      <td>0.481</td>\n",
       "      <td>0.137</td>\n",
       "      <td>0.882</td>\n",
       "    </tr>\n",
       "  </tbody>\n",
       "</table>\n",
       "</div>"
      ],
      "text/plain": [
       "    School ID    Borough Building Code       City  Zip Code  Latitude  \\\n",
       "154    09X413      Bronx          X410      Bronx     10457  40.84037   \n",
       "101    02M459  Manhattan          M480  Manhattan     10065  40.76545   \n",
       "249    30Q501     Queens          Q570    Astoria     11106  40.75653   \n",
       "219    12X692      Bronx          X420      Bronx     10472  40.83137   \n",
       "69     05M362  Manhattan          M125  Manhattan     10027  40.81092   \n",
       "\n",
       "     Longitude Start Time End Time  Student Enrollment  Percent White  \\\n",
       "154  -73.91084    7:45 AM  3:15 PM               472.0          0.007   \n",
       "101  -73.96021    8:45 AM  3:05 PM               343.0          0.122   \n",
       "249  -73.92514    7:45 AM  3:15 PM               808.0          0.387   \n",
       "219  -73.87882    8:30 AM  3:00 PM               445.0          0.009   \n",
       "69   -73.95693    8:00 AM  4:00 PM               659.0          0.148   \n",
       "\n",
       "     Percent Black  Percent Hispanic  Percent Asian  Percent Tested  \n",
       "154          0.367             0.534          0.071           0.839  \n",
       "101          0.166             0.411          0.294           0.586  \n",
       "249          0.136             0.334          0.105           0.895  \n",
       "219          0.180             0.784          0.011           0.468  \n",
       "69           0.220             0.481          0.137           0.882  "
      ]
     },
     "execution_count": 92,
     "metadata": {},
     "output_type": "execute_result"
    }
   ],
   "source": [
    "rows = X_test.index[X_test['Start Time'].isin(['9:50 AM', '8:22 AM', '9:08 AM', '7:28 AM', '8:33 AM'])].tolist()\n",
    "X_test = X_test[~X_test['Start Time'].isin(['9:50 AM', '8:22 AM', '9:08 AM', '7:28 AM', '8:33 AM'])]\n",
    "X_test.head()"
   ]
  },
  {
   "cell_type": "code",
   "execution_count": 93,
   "id": "a22ad87e",
   "metadata": {},
   "outputs": [
    {
     "data": {
      "text/plain": [
       "(73, 15)"
      ]
     },
     "execution_count": 93,
     "metadata": {},
     "output_type": "execute_result"
    }
   ],
   "source": [
    "X_test.shape"
   ]
  },
  {
   "cell_type": "code",
   "execution_count": 94,
   "id": "96d84962",
   "metadata": {},
   "outputs": [
    {
     "name": "stdout",
     "output_type": "stream",
     "text": [
      "<class 'pandas.core.frame.DataFrame'>\n",
      "Int64Index: 73 entries, 154 to 333\n",
      "Data columns (total 15 columns):\n",
      " #   Column              Non-Null Count  Dtype  \n",
      "---  ------              --------------  -----  \n",
      " 0   School ID           73 non-null     object \n",
      " 1   Borough             73 non-null     object \n",
      " 2   Building Code       73 non-null     object \n",
      " 3   City                73 non-null     object \n",
      " 4   Zip Code            73 non-null     int64  \n",
      " 5   Latitude            73 non-null     float64\n",
      " 6   Longitude           73 non-null     float64\n",
      " 7   Start Time          73 non-null     object \n",
      " 8   End Time            73 non-null     object \n",
      " 9   Student Enrollment  73 non-null     float64\n",
      " 10  Percent White       73 non-null     float64\n",
      " 11  Percent Black       73 non-null     float64\n",
      " 12  Percent Hispanic    73 non-null     float64\n",
      " 13  Percent Asian       73 non-null     float64\n",
      " 14  Percent Tested      73 non-null     float64\n",
      "dtypes: float64(8), int64(1), object(6)\n",
      "memory usage: 9.1+ KB\n"
     ]
    }
   ],
   "source": [
    "X_test.info()"
   ]
  },
  {
   "cell_type": "code",
   "execution_count": 95,
   "id": "005eed74",
   "metadata": {},
   "outputs": [],
   "source": [
    "X_test_prepared = full_pipeline.transform(X_test)\n",
    "final_predictions = final_model.predict(X_test_prepared)\n",
    "\n",
    "y_test.drop(rows, inplace=True)\n",
    "final_mse = mean_squared_error(y_test, final_predictions)\n",
    "final_rmse = np.sqrt(final_mse)"
   ]
  },
  {
   "cell_type": "code",
   "execution_count": 96,
   "id": "d6830a91",
   "metadata": {},
   "outputs": [
    {
     "data": {
      "text/plain": [
       "98.8527690007579"
      ]
     },
     "execution_count": 96,
     "metadata": {},
     "output_type": "execute_result"
    }
   ],
   "source": [
    "final_rmse"
   ]
  },
  {
   "cell_type": "code",
   "execution_count": 97,
   "id": "193e3f3d",
   "metadata": {},
   "outputs": [
    {
     "data": {
      "text/plain": [
       "array([ 75.41618139, 117.71210415])"
      ]
     },
     "execution_count": 97,
     "metadata": {},
     "output_type": "execute_result"
    }
   ],
   "source": [
    "from scipy import stats\n",
    "\n",
    "confidence = 0.95\n",
    "squared_errors = (final_predictions - y_test) ** 2\n",
    "np.sqrt(stats.t.interval(confidence, len(squared_errors) - 1,\n",
    "                         loc=squared_errors.mean(),\n",
    "                         scale=stats.sem(squared_errors)))"
   ]
  },
  {
   "cell_type": "code",
   "execution_count": 98,
   "id": "6ed1d5be",
   "metadata": {},
   "outputs": [
    {
     "data": {
      "text/plain": [
       "(75.41618138697909, 117.71210414923637)"
      ]
     },
     "execution_count": 98,
     "metadata": {},
     "output_type": "execute_result"
    }
   ],
   "source": [
    "m = len(squared_errors)\n",
    "mean = squared_errors.mean()\n",
    "tscore = stats.t.ppf((1 + confidence) / 2, df=m - 1)\n",
    "tmargin = tscore * squared_errors.std(ddof=1) / np.sqrt(m)\n",
    "np.sqrt(mean - tmargin), np.sqrt(mean + tmargin)"
   ]
  },
  {
   "cell_type": "code",
   "execution_count": 99,
   "id": "091b9a9d",
   "metadata": {},
   "outputs": [
    {
     "data": {
      "text/plain": [
       "(75.86985823999514, 117.42020477276236)"
      ]
     },
     "execution_count": 99,
     "metadata": {},
     "output_type": "execute_result"
    }
   ],
   "source": [
    "zscore = stats.norm.ppf((1 + confidence) / 2)\n",
    "zmargin = zscore * squared_errors.std(ddof=1) / np.sqrt(m)\n",
    "np.sqrt(mean - zmargin), np.sqrt(mean + zmargin)"
   ]
  },
  {
   "cell_type": "code",
   "execution_count": null,
   "id": "b53a1f4d",
   "metadata": {},
   "outputs": [],
   "source": []
  }
 ],
 "metadata": {
  "kernelspec": {
   "display_name": "Python 3",
   "language": "python",
   "name": "python3"
  },
  "language_info": {
   "codemirror_mode": {
    "name": "ipython",
    "version": 3
   },
   "file_extension": ".py",
   "mimetype": "text/x-python",
   "name": "python",
   "nbconvert_exporter": "python",
   "pygments_lexer": "ipython3",
   "version": "3.8.8"
  }
 },
 "nbformat": 4,
 "nbformat_minor": 5
}
